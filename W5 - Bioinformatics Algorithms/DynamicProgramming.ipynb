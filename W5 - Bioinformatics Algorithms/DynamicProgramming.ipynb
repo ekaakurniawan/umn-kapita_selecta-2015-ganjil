{
 "metadata": {
  "name": "",
  "signature": "sha256:dd08616122fb12c145ce22c8d285f3c94b490080e1ec9a05e14e7320168c4f87"
 },
 "nbformat": 3,
 "nbformat_minor": 0,
 "worksheets": [
  {
   "cells": [
    {
     "cell_type": "heading",
     "level": 1,
     "metadata": {
      "slideshow": {
       "slide_type": "-"
      }
     },
     "source": [
      "Topics"
     ]
    },
    {
     "cell_type": "markdown",
     "metadata": {
      "slideshow": {
       "slide_type": "-"
      }
     },
     "source": [
      "- [Change Problem](#Change-Problem)\n",
      "- [Sequence Alignment](#Sequence-Alignment)"
     ]
    },
    {
     "cell_type": "heading",
     "level": 1,
     "metadata": {},
     "source": [
      "Change Problem"
     ]
    },
    {
     "cell_type": "heading",
     "level": 4,
     "metadata": {},
     "source": [
      "Recurrence Relation"
     ]
    },
    {
     "cell_type": "markdown",
     "metadata": {
      "slideshow": {
       "slide_type": "-"
      }
     },
     "source": [
      "$$\n",
      "bestNumCoins_M = min\n",
      "\\begin{cases}\n",
      "    bestNumCoins_{M-C_1}+1\\\\\n",
      "    bestNumCoins_{M-C_2}+1\\\\\n",
      "    \\dots\\\\\n",
      "    bestNumCoins_{M-C_d}+1\\\\\n",
      "\\end{cases}\n",
      "$$"
     ]
    },
    {
     "cell_type": "heading",
     "level": 4,
     "metadata": {},
     "source": [
      "Dynamic Programming Algorithm for Change Problem"
     ]
    },
    {
     "cell_type": "markdown",
     "metadata": {},
     "source": [
      "<code>\n",
      "**DPChange**(M,**c**,d)\n",
      "    bestNumCoins_0 <= 0\n",
      "    **for** m **from** 1 to M  \n",
      "        bestNumCoins_m <= \u221e\n",
      "        **for** i **from** 1 **to** d\n",
      "            **if** m >= c_i\n",
      "                **if** (bestNumCoins_m - c_i + 1) < bestNumCoins_m\n",
      "                    bestNumCoins_m <= (bestNumCoins_m - c_i + 1)\n",
      "</code>"
     ]
    },
    {
     "cell_type": "code",
     "collapsed": false,
     "input": [
      "def get_minimum_change_using_DP(money, coins):\n",
      "    min_num_coins = [0 for i in range(money + 1)]\n",
      "    for i in range(1, money + 1):\n",
      "        min_num_coin = money + 1\n",
      "        for coin in coins:\n",
      "            if i >= coin:\n",
      "                new_min_num_coin = min_num_coins[i - coin] + 1\n",
      "                if new_min_num_coin < min_num_coin:\n",
      "                    min_num_coin = new_min_num_coin\n",
      "        min_num_coins[i] = min_num_coin\n",
      "    return min_num_coins[money]"
     ],
     "language": "python",
     "metadata": {},
     "outputs": [],
     "prompt_number": 1
    },
    {
     "cell_type": "code",
     "collapsed": false,
     "input": [
      "money = 40\n",
      "coins = [50,25,20,10,5,1]\n",
      "\n",
      "minimum_change = get_minimum_change_using_DP(money, coins)\n",
      "print(\"Minimum change =\", minimum_change)"
     ],
     "language": "python",
     "metadata": {},
     "outputs": [
      {
       "output_type": "stream",
       "stream": "stdout",
       "text": [
        "Minimum change = 2\n"
       ]
      }
     ],
     "prompt_number": 2
    },
    {
     "cell_type": "heading",
     "level": 1,
     "metadata": {},
     "source": [
      "Sequence Alignment"
     ]
    },
    {
     "cell_type": "heading",
     "level": 4,
     "metadata": {},
     "source": [
      "Recurrence Relation"
     ]
    },
    {
     "cell_type": "markdown",
     "metadata": {},
     "source": [
      "$$\n",
      "S_{i,j} = max\n",
      "\\begin{cases}\n",
      "    S_{i-1,j}\\\\\n",
      "    S_{i,j-1}\\\\\n",
      "    S_{i-1,j-1} + 1           & \\quad \\text{if } v_i = w_i\\\\\n",
      "\\end{cases}\n",
      "$$"
     ]
    },
    {
     "cell_type": "heading",
     "level": 4,
     "metadata": {},
     "source": [
      "Dynamic Programming Algorithm for Manhattan Tourist Problem"
     ]
    },
    {
     "cell_type": "markdown",
     "metadata": {},
     "source": [
      "<code>\n",
      "**DPSequence**(**v**,**w**)\n",
      "    **for** i **from** 0 **to** n\n",
      "        s_i_0 <= 0\n",
      "    **for** j **from** 0 **to** m\n",
      "        s_0_j <= 0\n",
      "    **for** i **from** 0 **to** n\n",
      "        **for** j **from** 0 **to** m\n",
      "            s_i_j <= runRecurrenceRelation()\n",
      "    **return** s_i_j\n",
      "</code>"
     ]
    },
    {
     "cell_type": "code",
     "collapsed": false,
     "input": [
      "# Back Track Direction\n",
      "BTD_DOWN = 1\n",
      "BTD_RIGHT = 2\n",
      "BTD_DIAGONAL = 3"
     ],
     "language": "python",
     "metadata": {},
     "outputs": [],
     "prompt_number": 3
    },
    {
     "cell_type": "code",
     "collapsed": false,
     "input": [
      "def get_longest_common_subsequence(v, w, n, m):\n",
      "    s_matrix = [[0 for j in range(m+1)] for i in range(n+1)]\n",
      "    backtrack_matrix = [[0 for j in range(m+1)] for i in range(n+1)]\n",
      "    # Fill most left column\n",
      "    for i in range(1, n+1):\n",
      "        s_matrix[i][0] = 0\n",
      "        backtrack_matrix[i][0] = BTD_DOWN\n",
      "    # Fill most top row\n",
      "    for j in range(1, m+1):\n",
      "        s_matrix[0][j] = 0\n",
      "        backtrack_matrix[0][j] = BTD_RIGHT\n",
      "    # Fill the reset\n",
      "    for j in range(1, m+1):\n",
      "        for i in range(1, n+1):\n",
      "            if v[i-1] == w[j-1]:\n",
      "                match_score = 1\n",
      "            else:\n",
      "                match_score = 0\n",
      "            s_matrix[i][j] = max(s_matrix[i-1][j],\n",
      "                                 s_matrix[i][j-1],\n",
      "                                 s_matrix[i-1][j-1] + match_score)\n",
      "            # Update backtrack\n",
      "            if s_matrix[i][j] == s_matrix[i-1][j]:\n",
      "                backtrack_matrix[i][j] = BTD_DOWN\n",
      "            elif s_matrix[i][j] == s_matrix[i][j-1]:\n",
      "                backtrack_matrix[i][j] = BTD_RIGHT\n",
      "            elif s_matrix[i][j] == s_matrix[i-1][j-1] + 1:\n",
      "                backtrack_matrix[i][j] = BTD_DIAGONAL\n",
      "\n",
      "    return s_matrix[i][j], backtrack_matrix"
     ],
     "language": "python",
     "metadata": {},
     "outputs": [],
     "prompt_number": 4
    },
    {
     "cell_type": "code",
     "collapsed": false,
     "input": [
      "def backtrack(backtrack_matrix, v, w, n, m):\n",
      "    vp = []\n",
      "    wp = []\n",
      "    \n",
      "    i = n\n",
      "    j = m\n",
      "    while (i > 0):\n",
      "        while (j > 0):\n",
      "            if backtrack_matrix[i][j] == BTD_DOWN:\n",
      "                vp.append(v[i-1])\n",
      "                wp.append('-')\n",
      "                i = i -1\n",
      "            elif backtrack_matrix[i][j] == BTD_RIGHT:\n",
      "                vp.append('-')\n",
      "                wp.append(w[j-1])\n",
      "                j = j -1\n",
      "            else:\n",
      "                vp.append(v[i-1])\n",
      "                wp.append(w[j-1])\n",
      "                i = i -1\n",
      "                j = j -1\n",
      "        \n",
      "    return vp[len(vp)+1::-1], wp[len(wp)+1::-1]"
     ],
     "language": "python",
     "metadata": {},
     "outputs": [],
     "prompt_number": 5
    },
    {
     "cell_type": "heading",
     "level": 4,
     "metadata": {},
     "source": [
      "Dummy Example"
     ]
    },
    {
     "cell_type": "code",
     "collapsed": false,
     "input": [
      "v = 'AACCTTGG'\n",
      "w = 'ACACTGTGA'\n",
      "\n",
      "n = len(v)\n",
      "m = len(w)\n",
      "\n",
      "max_score, backtrack_matrix = get_longest_common_subsequence(v, w, n, m)\n",
      "print(\"Max Score =\", max_score)\n"
     ],
     "language": "python",
     "metadata": {},
     "outputs": [
      {
       "output_type": "stream",
       "stream": "stdout",
       "text": [
        "Max Score = 6\n"
       ]
      }
     ],
     "prompt_number": 6
    },
    {
     "cell_type": "code",
     "collapsed": false,
     "input": [
      "vp, wp = backtrack(backtrack_matrix, v, w, n, m)\n",
      "print(\"vp =\", \"\".join(vp))\n",
      "print(\"wp =\", \"\".join(wp))"
     ],
     "language": "python",
     "metadata": {},
     "outputs": [
      {
       "output_type": "stream",
       "stream": "stdout",
       "text": [
        "vp = A-ACCT-TG-G\n",
        "wp = ACAC-TGTGA-\n"
       ]
      }
     ],
     "prompt_number": 7
    },
    {
     "cell_type": "heading",
     "level": 4,
     "metadata": {},
     "source": [
      "Influenza A Virus Hemagglutinin (HA) Protein"
     ]
    },
    {
     "cell_type": "code",
     "collapsed": false,
     "input": [
      "v = \"MEAKLFVLFCTFTVLKADTICVGYHANNSTDTVDTVLEKNVTVTHSVNLLEDSHNGKLCSLNGIAPLQLGKCNVAGWLLGNPECDLLLTANSWSYIIETSNSENGTCYPGEFIDYEELREQLSSVSSFEKFEIFPKANSWPNHETTKGVTAACSYSGASSFYRNLLWITKKGTSYPKLSKSYTNNKGKEVLVLWGVHHPPTTSEQQSLYQNTDAYVSVGSSKYNRRFTPEIAARPKVRGQAGRMNYYWTLLDQGDTITFEATGNLIAPWYAFALNKGSDSGIITSDAPVHNCDTRCQTPHGALNSSLPFQNVHPITIGECPKYVKSTKLRMATGLRNVPSIQSRGLFGAIAGFIEGGWTGMIDGWYGYHHQNEQGSGYAADQKSTQNAIDGITNKVNSVIEKMNTQFTAVGKEFNNLERRIENLNKKVDDGFLDVWTYNAELLVLLENERTLDFHDSNVRNLYEKVRSQLRNNAKELGNGCFEFYHKCDDECMESVKNGTYDYPKYSEESKLNREEIDGVKLESMGVYQILAIYSTVASSLVLLVSLGAISFWMCSNGSLQCRICI\"\n",
      "w = \"MKAILVVLLYTFATANADTLCIGYHANNSTDTVDTVLEKNVTVTHSVNLLEDKHNGKLCKLRGVAPLHLGKCNIAGWILGNPECESLSTASSWSYIVETSSSDNGTCYPGDFIDYEELREQLSSVSSFERFEIFPKTSSWPNHDSNKGVTAACPHAGAKSFYKNLIWLVKKGNSYPKLSKSYINDKGKEVLVLWGIHHPSTSADQQSLYQNADAYVFVGTSRYSKKFKPEIAIRPKVRDQEGRMNYYWTLVEPGDKITFEATGNLVVPRYAFAMERNAGSGIIISDTPVHDCNTTCQTPKGAINTSLPFQNIHPITIGKCPKYVKSTKLRLATGLRNVPSIQSRGLFGAIAGFIEGGWTGMVDGWYGYHHQNEQGSGYAADLKSTQNAIDEITNKVNSVIEKMNTQFTAVGKEFNHLEKRIENLNKKVDDGFLDIWTYNAELLVLLENERTLDYHDSNVKNLYEKVRSQLKNNAKEIGNGCFEFYHKCDNTCMESVKNGTYDYPKYSEEAKLNREEIDGVKLESTRIYQILAIYSTVASSLVLVVSLGAISFWMCSNGSLQCRICI\"\n",
      "\n",
      "n = len(v)\n",
      "m = len(w)\n",
      "\n",
      "max_score, backtrack_matrix = get_longest_common_subsequence(v, w, n, m)\n",
      "print(\"Max Score =\", max_score)"
     ],
     "language": "python",
     "metadata": {},
     "outputs": [
      {
       "output_type": "stream",
       "stream": "stdout",
       "text": [
        "Max Score = 471\n"
       ]
      }
     ],
     "prompt_number": 14
    },
    {
     "cell_type": "code",
     "collapsed": false,
     "input": [
      "vp, wp = backtrack(backtrack_matrix, v, w, n, m)\n",
      "print(\"vp =\", \"\".join(vp))\n",
      "print(\"wp =\", \"\".join(wp))"
     ],
     "language": "python",
     "metadata": {},
     "outputs": [
      {
       "output_type": "stream",
       "stream": "stdout",
       "text": [
        "vp = M-EA-KLFV-L--FCTF-TVLKA--DT--ICVGYHANNSTDTVDTVLEKNVTVTHSVNLLED-SHNGKLC-SL-NG-IAPL-QLGKCN-VAGW-LLGNPEC--DL-LLTANS-WSYI-IETSNS--ENGTCYPG-EFIDYEELREQLSSVSSFE-KFEIFPK-ANS-WPNH---ETTKGVTAAC---SYSGA-SSFY-RNL--L-WITKKG-TSYPKLSKSY-TN-NKGKEVLVLWG-VHHP-PTTS--EQQSLYQN-TDAYV-SVG-S--SK-YNRRF-TPEIA-ARPKVR-GQ-AGRMNYYWTL---LDQGD-TITFEATGNL--IAP-WYAFA---LN-KGSDSGII-TSD-APVH--NCDT-RCQTP-HGA-LN-SSLPFQN-VHPITIG-ECPKYVKSTKLR-MATGLRNVPSIQSRGLFGAIAGFIEGGWTGM-IDGWYGYHHQNEQGSGYAAD-QKSTQNAID-GITNKVNSVIEKMNTQFTAVGKEFN-NLE-RRIENLNKKVDDGFLD-VWTYNAELLVLLENERTLD-FHDSNV-RNLYEKVRSQL-RNNAKE-LGNGCFEFYHKCD--DECMESVKNGTYDYPKYSEE-SKLNREEIDGVKLES---MGVYQILAIYSTVASSLVLLV-SLGAISFWMCSNGSLQCRICI\n",
        "wp = MK-AI-L-VVLLY--TFAT---ANADTLCI--GYHANNSTDTVDTVLEKNVTVTHSVNLLEDK-HNGKLCK-LR-GV-APLH-LGKCNI-AGWIL-GNPECES-LS--TA-SSWSYIV-ETS-SSD-NGTCYPGD-FIDYEELREQLSSVSSFER-FEIFPKT--SSWPNHDSN---KGVTAACPHA---GAKS-FYK-NLIWLV---KKGN-SYPKLSKSYI-ND-KGKEVLVLWGI-HHPS-T-SAD-QQSLYQNA-DAYVF-VGTSRYSKK----FK-PEIAI-RPKVRD-QE-GRMNYYWTLVEP---GDK-ITFEATGNLVV--PR-YAFAMER-NA-GS--GIII-SDT-PVHDCN--TT-CQTPK-GAI-NTS-LPFQNI-HPITIGK-CPKYVKSTKLRL-ATGLRNVPSIQSRGLFGAIAGFIEGGWTGMV-DGWYGYHHQNEQGSGYAADL-KSTQNAIDE-ITNKVNSVIEKMNTQFTAVGKEFNH-LEKR-IENLNKKVDDGFLDI-WTYNAELLVLLENERTLDY-HDSNVK-NLYEKVRSQLK-NNAKEI-GNGCFEFYHKCDNT--CMESVKNGTYDYPKYSEEA-KLNREEIDGVKLESTRI---YQILAIYSTVASSLVL-VVSLGAISFWMCSNGSLQCRICI\n"
       ]
      }
     ],
     "prompt_number": 15
    }
   ],
   "metadata": {}
  }
 ]
}