{
 "metadata": {
  "name": "",
  "signature": "sha256:a246c80c70efe7dc68e56b3fea7eff021841186e775066431650912713ec466b"
 },
 "nbformat": 3,
 "nbformat_minor": 0,
 "worksheets": [
  {
   "cells": [
    {
     "cell_type": "markdown",
     "metadata": {},
     "source": [
      "> Copyright (C) 2015 by Eka A. Kurniawan\n",
      "> \n",
      "> eka.a.kurniawan(ta)gmail(tod)com\n",
      "> \n",
      "> This program is free software: you can redistribute it and/or modify\n",
      "> it under the terms of the GNU General Public License as published by\n",
      "> the Free Software Foundation, either version 3 of the License, or\n",
      "> (at your option) any later version.\n",
      "> \n",
      "> This program is distributed in the hope that it will be useful,\n",
      "> but WITHOUT ANY WARRANTY; without even the implied warranty of\n",
      "> MERCHANTABILITY or FITNESS FOR A PARTICULAR PURPOSE.  See the\n",
      "> GNU General Public License for more details.\n",
      "> \n",
      "> You should have received a copy of the GNU General Public License\n",
      "> along with this program.  If not, see <http://www.gnu.org/licenses/>."
     ]
    },
    {
     "cell_type": "heading",
     "level": 1,
     "metadata": {},
     "source": [
      "Topics"
     ]
    },
    {
     "cell_type": "markdown",
     "metadata": {},
     "source": [
      "- [Crawling](#Crawling[1])\n",
      "- [Indexing](#Indexing[1])\n",
      "- [Scoring](#Scoring[1])"
     ]
    },
    {
     "cell_type": "heading",
     "level": 1,
     "metadata": {},
     "source": [
      "Getting Web Page"
     ]
    },
    {
     "cell_type": "code",
     "collapsed": false,
     "input": [
      "from urllib.request import urlopen\n",
      "def get_page(url):\n",
      "    return urlopen(url, timeout = 3).read().decode()"
     ],
     "language": "python",
     "metadata": {},
     "outputs": [],
     "prompt_number": 1
    },
    {
     "cell_type": "code",
     "collapsed": false,
     "input": [
      "get_page(\"http://www.eliticstechnologies.com\")"
     ],
     "language": "python",
     "metadata": {},
     "outputs": [
      {
       "metadata": {},
       "output_type": "pyout",
       "prompt_number": 2,
       "text": [
        "'<!DOCTYPE html>\\n<html lang=\"en\">\\n    <head>\\n        <title>Elitics Technologies</title>\\n        <!-- Fonts -->\\n        <link href=\\'http://fonts.googleapis.com/css?family=Exo+2\\' rel=\\'stylesheet\\' type=\\'text/css\\'>\\n        <!-- CSSs -->\\n        <link rel=\"stylesheet\" href=\"/stylesheets/css/bootstrap.min.css\">\\n        <link rel=\"stylesheet\" href=\"/stylesheets/css/elitics_technologies.css\">\\n        <link rel=\"stylesheet\" href=\"/stylesheets/css/animations.css\">\\n        <meta name=\"viewport\" content=\"width=device-width, initial-scale=1\">\\n    </head>\\n    \\n    <body onload=\"control_onload()\">\\n        <!------------------------------------------------------------------------------------------------------------>\\n        <!-- Content ------------------------------------------------------------------------------------------------->\\n        <!------------------------------------------------------------------------------------------------------------>\\n        \\n    <div class=\"carousel slide\" data-ride=\"carousel\">\\n        <div class=\"carousel-inner\">\\n            <div class=\"item active\">\\n                <!---------------------------------------------------------------------------------------------------->\\n                <!-- Background -------------------------------------------------------------------------------------->\\n                <!---------------------------------------------------------------------------------------------------->\\n                <img class=\"background-responsive\" src=\"/stylesheets/image/background.jpg\" />\\n                <div id=\"canvas-background\" class=\"canvas-background\">\\n\\t\\t\\t\\t\\t<canvas id=\"animation-canvas\"></canvas>\\n\\t\\t\\t\\t</div>\\n\\n                <!---------------------------------------------------------------------------------------------------->\\n                <!-- Elitics Technologies Logo ----------------------------------------------------------------------->\\n                <!---------------------------------------------------------------------------------------------------->\\n                <div class=\"carousel-logo-left\">\\n                    <a href=\"http://www.eliticstechnologies.com\">\\n                        <img src=\"http://storage.googleapis.com/eliticstechnologies.com/logos/eliticstechnologies_364x160.png\" />\\n                    </a>\\n                </div>\\n\\n                <!---------------------------------------------------------------------------------------------------->\\n                <!-- Products ---------------------------------------------------------------------------------------->\\n                <!---------------------------------------------------------------------------------------------------->\\n                <div class=\"carousel-caption-center color-dark-gray\">\\n                    Implementing\\n                    <span style=\"font-weight: 600\">Big Data Analysis</span><br>\\n                    to <span style=\"font-weight: 600\">Promote Creativity</span> and\\n                    to <span style=\"font-weight: 600\">Improve Health</span>\\n\\n                    <br><br>\\n\\n                    <div id=\"product_logos\" style=\"display: none\">\\n                        <a href=\"https://www.socioelitics.com\" target=\"_blank\">\\n                            <img class=\"product_logo\" src=\"http://storage.googleapis.com/eliticstechnologies.com/products/socioelitics_logo_237x237.png\" />\\n                        </a>\\n                        <a href=\"https://www.bioelitics.com\" target=\"_blank\">\\n                            <img class=\"product_logo\" src=\"http://storage.googleapis.com/eliticstechnologies.com/products/bioelitics_logo_238x237.png\" />\\n                        </a>\\n                        <img class=\"product_logo\" src=\"http://storage.googleapis.com/eliticstechnologies.com/products/mapelitics_logo_208x208.png\" />\\n                    </div>\\n\\n                    <br>\\n\\n                    <div id=\"contact_button\" style=\"display: none\">\\n                        <a href=\"#\" class=\"btn btn-danger contact-btn\" data-toggle=\"modal\" data-target=\"#contact_modal\">\\n                            Contact\\n                        </a>\\n                    </div>\\n                </div>\\n\\n            </div>\\n        </div>\\n    </div>\\n\\n    <div class=\"modal fade\" id=\"contact_modal\" tabindex=\"-1\" role=\"dialog\" aria-labelledby=\"basicModal\" aria-hidden=\"true\">\\n        <div class=\"modal-dialog contact-modal-dialog\">\\n            <div class=\"modal-content contact-modal-content\">\\n                <div class=\"modal-header color-dark-gray\">\\n                    <h4 class=\"modal-title\" id=\"myModalLabel\">Contact</h4>\\n                </div>\\n                <div class=\"modal-body text-right color-dark-gray\">\\n                    <span style=\"font-weight: 600; font-size: 21px\">ELITICS </span>\\n                    <span style=\"font-size: 19px\">technologies</span><br>\\n                    machine@eliticstechnologies.com<br><br>\\n                    New Media Tower lv. 12<br>\\n                    Universitas Multimedia Nusantara<br>\\n                    Jl. Scientia Boulevard, Gading Serpong<br>\\n                    Tangerang, Banten, Indonesia (15811)\\n                </div>\\n                <div class=\"modal-footer\">\\n                    <button type=\"button\" class=\"btn btn-danger\" data-dismiss=\"modal\">Close</button>\\n                </div>\\n            </div>\\n        </div>\\n    </div>\\n\\n\\n        <!------------------------------------------------------------------------------------------------------------>\\n        <!-- Footer -------------------------------------------------------------------------------------------------->\\n        <!------------------------------------------------------------------------------------------------------------>\\n        <footer>\\n            <div class=\"footer-copyright color-dark-gray\">\\n                <div class=\"row\">\\n                    <div class=\"col-lg-12\">\\n                        <ul class=\"list-unstyled\">\\n                            <li class=\"pull-right text-right\">\\n                                \u00a9 2014-2015\\n                                <span class=\"footer-copyright-elitics\">ELITICS </span>\\n                                <span class=\"footer-copyright-technologies\">technologies</span>\\n                                <br>\\n                                Designed by\\n                                <a href=\"http://www.yourdreambox.com\">\\n                                    <span class=\"footer-copyright-dreambox\">DREAMBOX</span>\\n                                </a>\\n                                <br>\\n                            </li>\\n                        </ul>\\n                    </div>\\n                </div>\\n            </div>\\n        </footer>\\n        <br>\\n\\n        <!------------------------------------------------------------------------------------------------------------>\\n        <!-- Scripts ------------------------------------------------------------------------------------------------->\\n        <!------------------------------------------------------------------------------------------------------------>\\n        <script src=\"/stylesheets/js/jquery-1.10.2.min.js\"></script>\\n        <script src=\"/stylesheets/js/bootstrap.min.js\"></script>\\n        <!-- Animation -->\\n        <script src=\"/stylesheets/js/TweenLite.min.js\"></script>\\n        <script src=\"/stylesheets/js/EasePack.min.js\"></script>\\n        <script src=\"/stylesheets/js/animation.js\"></script>\\n\\n        <!-- Trigger animation after the page finish loading -->\\n        <script>\\n            function control_onload() {\\n                document.getElementById(\\'product_logos\\').style.display = \\'block\\';\\n                $(\\'#product_logos\\').addClass(\\'fadeIn\\');\\n                document.getElementById(\\'contact_button\\').style.display = \\'block\\';\\n                $(\\'#contact_button\\').addClass(\\'slideRight\\');\\n            }\\n        </script>\\n\\n        <!-- Google Analytics -->\\n        <script>\\n            (function(i,s,o,g,r,a,m){\\n                i[\\'GoogleAnalyticsObject\\']=r;\\n                i[r]=i[r]||function(){(i[r].q=i[r].q||[]).push(arguments)},i[r].l=1*new Date();\\n                a=s.createElement(o), m=s.getElementsByTagName(o)[0];\\n                a.async=1;\\n                a.src=g;\\n                m.parentNode.insertBefore(a,m)\\n            })(window,document,\\'script\\',\\'//www.google-analytics.com/analytics.js\\',\\'ga\\');\\n\\n            ga(\\'create\\', \\'UA-54630701-1\\', \\'auto\\');\\n            ga(\\'send\\', \\'pageview\\');\\n        </script>\\n    </body>\\n</html>'"
       ]
      }
     ],
     "prompt_number": 2
    },
    {
     "cell_type": "code",
     "collapsed": false,
     "input": [
      "elitics_technologies_page = '<!DOCTYPE html>\\n<html lang=\"en\">\\n    <head>\\n        <title>Elitics Technologies</title>\\n        <!-- Fonts -->\\n        <link href=\\'http://fonts.googleapis.com/css?family=Exo+2\\' rel=\\'stylesheet\\' type=\\'text/css\\'>\\n        <!-- CSSs -->\\n        <link rel=\"stylesheet\" href=\"/stylesheets/css/bootstrap.min.css\">\\n        <link rel=\"stylesheet\" href=\"/stylesheets/css/elitics_technologies.css\">\\n        <link rel=\"stylesheet\" href=\"/stylesheets/css/animations.css\">\\n        <meta name=\"viewport\" content=\"width=device-width, initial-scale=1\">\\n    </head>\\n    \\n    <body onload=\"control_onload()\">\\n        <!------------------------------------------------------------------------------------------------------------>\\n        <!-- Content ------------------------------------------------------------------------------------------------->\\n        <!------------------------------------------------------------------------------------------------------------>\\n        \\n    <div class=\"carousel slide\" data-ride=\"carousel\">\\n        <div class=\"carousel-inner\">\\n            <div class=\"item active\">\\n                <!---------------------------------------------------------------------------------------------------->\\n                <!-- Background -------------------------------------------------------------------------------------->\\n                <!---------------------------------------------------------------------------------------------------->\\n                <img class=\"background-responsive\" src=\"/stylesheets/image/background.jpg\" />\\n                <div id=\"canvas-background\" class=\"canvas-background\">\\n\\t\\t\\t\\t\\t<canvas id=\"animation-canvas\"></canvas>\\n\\t\\t\\t\\t</div>\\n\\n                <!---------------------------------------------------------------------------------------------------->\\n                <!-- Elitics Technologies Logo ----------------------------------------------------------------------->\\n                <!---------------------------------------------------------------------------------------------------->\\n                <div class=\"carousel-logo-left\">\\n                    <a href=\"http://www.eliticstechnologies.com\">\\n                        <img src=\"http://storage.googleapis.com/eliticstechnologies.com/logos/eliticstechnologies_364x160.png\" />\\n                    </a>\\n                </div>\\n\\n                <!---------------------------------------------------------------------------------------------------->\\n                <!-- Products ---------------------------------------------------------------------------------------->\\n                <!---------------------------------------------------------------------------------------------------->\\n                <div class=\"carousel-caption-center color-dark-gray\">\\n                    Implementing\\n                    <span style=\"font-weight: 600\">Big Data Analysis</span><br>\\n                    to <span style=\"font-weight: 600\">Promote Creativity</span> and\\n                    to <span style=\"font-weight: 600\">Improve Health</span>\\n\\n                    <br><br>\\n\\n                    <div id=\"product_logos\" style=\"display: none\">\\n                        <a href=\"https://www.socioelitics.com\" target=\"_blank\">\\n                            <img class=\"product_logo\" src=\"http://storage.googleapis.com/eliticstechnologies.com/products/socioelitics_logo_237x237.png\" />\\n                        </a>\\n                        <a href=\"https://www.bioelitics.com\" target=\"_blank\">\\n                            <img class=\"product_logo\" src=\"http://storage.googleapis.com/eliticstechnologies.com/products/bioelitics_logo_238x237.png\" />\\n                        </a>\\n                        <img class=\"product_logo\" src=\"http://storage.googleapis.com/eliticstechnologies.com/products/mapelitics_logo_208x208.png\" />\\n                    </div>\\n\\n                    <br>\\n\\n                    <div id=\"contact_button\" style=\"display: none\">\\n                        <a href=\"#\" class=\"btn btn-danger contact-btn\" data-toggle=\"modal\" data-target=\"#contact_modal\">\\n                            Contact\\n                        </a>\\n                    </div>\\n                </div>\\n\\n            </div>\\n        </div>\\n    </div>\\n\\n    <div class=\"modal fade\" id=\"contact_modal\" tabindex=\"-1\" role=\"dialog\" aria-labelledby=\"basicModal\" aria-hidden=\"true\">\\n        <div class=\"modal-dialog contact-modal-dialog\">\\n            <div class=\"modal-content contact-modal-content\">\\n                <div class=\"modal-header color-dark-gray\">\\n                    <h4 class=\"modal-title\" id=\"myModalLabel\">Contact</h4>\\n                </div>\\n                <div class=\"modal-body text-right color-dark-gray\">\\n                    <span style=\"font-weight: 600; font-size: 21px\">ELITICS </span>\\n                    <span style=\"font-size: 19px\">technologies</span><br>\\n                    machine@eliticstechnologies.com<br><br>\\n                    New Media Tower lv. 12<br>\\n                    Universitas Multimedia Nusantara<br>\\n                    Jl. Scientia Boulevard, Gading Serpong<br>\\n                    Tangerang, Banten, Indonesia (15811)\\n                </div>\\n                <div class=\"modal-footer\">\\n                    <button type=\"button\" class=\"btn btn-danger\" data-dismiss=\"modal\">Close</button>\\n                </div>\\n            </div>\\n        </div>\\n    </div>\\n\\n\\n        <!------------------------------------------------------------------------------------------------------------>\\n        <!-- Footer -------------------------------------------------------------------------------------------------->\\n        <!------------------------------------------------------------------------------------------------------------>\\n        <footer>\\n            <div class=\"footer-copyright color-dark-gray\">\\n                <div class=\"row\">\\n                    <div class=\"col-lg-12\">\\n                        <ul class=\"list-unstyled\">\\n                            <li class=\"pull-right text-right\">\\n                                \u00a9 2014-2015\\n                                <span class=\"footer-copyright-elitics\">ELITICS </span>\\n                                <span class=\"footer-copyright-technologies\">technologies</span>\\n                                <br>\\n                                Designed by\\n                                <a href=\"http://www.yourdreambox.com\">\\n                                    <span class=\"footer-copyright-dreambox\">DREAMBOX</span>\\n                                </a>\\n                                <br>\\n                            </li>\\n                        </ul>\\n                    </div>\\n                </div>\\n            </div>\\n        </footer>\\n        <br>\\n\\n        <!------------------------------------------------------------------------------------------------------------>\\n        <!-- Scripts ------------------------------------------------------------------------------------------------->\\n        <!------------------------------------------------------------------------------------------------------------>\\n        <script src=\"/stylesheets/js/jquery-1.10.2.min.js\"></script>\\n        <script src=\"/stylesheets/js/bootstrap.min.js\"></script>\\n        <!-- Animation -->\\n        <script src=\"/stylesheets/js/TweenLite.min.js\"></script>\\n        <script src=\"/stylesheets/js/EasePack.min.js\"></script>\\n        <script src=\"/stylesheets/js/animation.js\"></script>\\n\\n        <!-- Trigger animation after the page finish loading -->\\n        <script>\\n            function control_onload() {\\n                document.getElementById(\\'product_logos\\').style.display = \\'block\\';\\n                $(\\'#product_logos\\').addClass(\\'fadeIn\\');\\n                document.getElementById(\\'contact_button\\').style.display = \\'block\\';\\n                $(\\'#contact_button\\').addClass(\\'slideRight\\');\\n            }\\n        </script>\\n\\n        <!-- Google Analytics -->\\n        <script>\\n            (function(i,s,o,g,r,a,m){\\n                i[\\'GoogleAnalyticsObject\\']=r;\\n                i[r]=i[r]||function(){(i[r].q=i[r].q||[]).push(arguments)},i[r].l=1*new Date();\\n                a=s.createElement(o), m=s.getElementsByTagName(o)[0];\\n                a.async=1;\\n                a.src=g;\\n                m.parentNode.insertBefore(a,m)\\n            })(window,document,\\'script\\',\\'//www.google-analytics.com/analytics.js\\',\\'ga\\');\\n\\n            ga(\\'create\\', \\'UA-54630701-1\\', \\'auto\\');\\n            ga(\\'send\\', \\'pageview\\');\\n        </script>\\n    </body>\\n</html>'"
     ],
     "language": "python",
     "metadata": {},
     "outputs": [],
     "prompt_number": 3
    },
    {
     "cell_type": "heading",
     "level": 1,
     "metadata": {},
     "source": [
      "Extracting Links"
     ]
    },
    {
     "cell_type": "code",
     "collapsed": false,
     "input": [
      "def get_next_target(page):\n",
      "    start_link_idx = page.find('<a href=')\n",
      "    if start_link_idx is -1:\n",
      "        return None, 0\n",
      "    \n",
      "    start_quote_idx = page.find('\"', start_link_idx)\n",
      "    end_quote_idx = page.find('\"', start_quote_idx+1)\n",
      "    url = page[start_quote_idx+1:end_quote_idx]\n",
      "    return url, end_quote_idx"
     ],
     "language": "python",
     "metadata": {},
     "outputs": [],
     "prompt_number": 4
    },
    {
     "cell_type": "code",
     "collapsed": false,
     "input": [
      "page =('<div id=\"top_bin\"><div id=\"top_content\" class=\"width960\">'\n",
      "       '<div class=\"udacity float-left\"><a href=\"http://udacity.com\">')\n",
      "\n",
      "get_next_target(page)"
     ],
     "language": "python",
     "metadata": {},
     "outputs": [
      {
       "metadata": {},
       "output_type": "pyout",
       "prompt_number": 5,
       "text": [
        "('http://udacity.com', 116)"
       ]
      }
     ],
     "prompt_number": 5
    },
    {
     "cell_type": "heading",
     "level": 1,
     "metadata": {},
     "source": [
      "Getting All Links"
     ]
    },
    {
     "cell_type": "code",
     "collapsed": false,
     "input": [
      "def get_all_links(page):\n",
      "    urls = []\n",
      "    while True:\n",
      "        url, endpos = get_next_target(page)\n",
      "        if url:\n",
      "            urls.append(url)\n",
      "            page = page[endpos:]\n",
      "        else:\n",
      "            break\n",
      "    return urls"
     ],
     "language": "python",
     "metadata": {},
     "outputs": [],
     "prompt_number": 6
    },
    {
     "cell_type": "code",
     "collapsed": false,
     "input": [
      "page =('<div id=\"top_bin\"><div id=\"top_content\" class=\"width960\">'\n",
      "       '<div class=\"udacity float-left\"><a href=\"http://udacity.com\">'\n",
      "       '<div id=\"top_bin\"><div id=\"top_content\" class=\"width960\">'\n",
      "       '<div class=\"udacity float-left\"><a href=\"http://gmail.com\">'\n",
      "       '<div id=\"top_bin\"><div id=\"top_content\" class=\"width960\">'\n",
      "       '<div class=\"udacity float-left\"><a href=\"http://yahoo.com\">')\n",
      "\n",
      "get_all_links(page)"
     ],
     "language": "python",
     "metadata": {},
     "outputs": [
      {
       "metadata": {},
       "output_type": "pyout",
       "prompt_number": 7,
       "text": [
        "['http://udacity.com', 'http://gmail.com', 'http://yahoo.com']"
       ]
      }
     ],
     "prompt_number": 7
    },
    {
     "cell_type": "code",
     "collapsed": false,
     "input": [
      "get_all_links(elitics_technologies_page)"
     ],
     "language": "python",
     "metadata": {},
     "outputs": [
      {
       "metadata": {},
       "output_type": "pyout",
       "prompt_number": 8,
       "text": [
        "['http://www.eliticstechnologies.com',\n",
        " 'https://www.socioelitics.com',\n",
        " 'https://www.bioelitics.com',\n",
        " '#',\n",
        " 'http://www.yourdreambox.com']"
       ]
      }
     ],
     "prompt_number": 8
    },
    {
     "cell_type": "heading",
     "level": 1,
     "metadata": {},
     "source": [
      "Union Function"
     ]
    },
    {
     "cell_type": "code",
     "collapsed": false,
     "input": [
      "def union(a, b):\n",
      "    return list(set.union(set(a), set(b)))"
     ],
     "language": "python",
     "metadata": {},
     "outputs": [],
     "prompt_number": 9
    },
    {
     "cell_type": "heading",
     "level": 1,
     "metadata": {},
     "source": [
      "Crawling[1]"
     ]
    },
    {
     "cell_type": "code",
     "collapsed": false,
     "input": [
      "def crawl_web(seed):\n",
      "    to_crawl = [seed]\n",
      "    crawled = []\n",
      "    while to_crawl:\n",
      "        url = to_crawl.pop()\n",
      "        if url not in crawled and url.find('elitics') is not -1:\n",
      "            print(\"crawling: %s\" % url)\n",
      "            page_content = get_page(url)\n",
      "            new_links = get_all_links(page_content)\n",
      "            for new_link in new_links:\n",
      "                print(\" - %s\" % new_link)\n",
      "            to_crawl = union(to_crawl, new_links)\n",
      "            crawled.append(url)\n",
      "    return crawled"
     ],
     "language": "python",
     "metadata": {},
     "outputs": [],
     "prompt_number": 10
    },
    {
     "cell_type": "code",
     "collapsed": false,
     "input": [
      "crawled = crawl_web(\"https://www.socioelitics.com\")"
     ],
     "language": "python",
     "metadata": {},
     "outputs": [
      {
       "output_type": "stream",
       "stream": "stdout",
       "text": [
        "crawling: https://www.socioelitics.com\n",
        " - /about#info"
       ]
      },
      {
       "output_type": "stream",
       "stream": "stdout",
       "text": [
        "\n",
        " - /about#focus\n",
        " - /about#products\n",
        " - /about#team\n",
        " - /about#reviews\n",
        " - /about#contact\n",
        " - /signin\n",
        " - http://www.eliticstechnologies.com\n",
        "crawling: http://www.eliticstechnologies.com\n",
        " - http://www.eliticstechnologies.com"
       ]
      },
      {
       "output_type": "stream",
       "stream": "stdout",
       "text": [
        "\n",
        " - https://www.socioelitics.com\n",
        " - https://www.bioelitics.com\n",
        " - #\n",
        " - http://www.yourdreambox.com\n",
        "crawling: https://www.bioelitics.com\n",
        " - /about#info"
       ]
      },
      {
       "output_type": "stream",
       "stream": "stdout",
       "text": [
        "\n",
        " - /about#focus\n",
        " - /about#products\n",
        " - /about#team\n",
        " - /about#reviews\n",
        " - /about#contact\n"
       ]
      }
     ],
     "prompt_number": 11
    },
    {
     "cell_type": "code",
     "collapsed": false,
     "input": [
      "crawled"
     ],
     "language": "python",
     "metadata": {},
     "outputs": [
      {
       "metadata": {},
       "output_type": "pyout",
       "prompt_number": 12,
       "text": [
        "['https://www.socioelitics.com',\n",
        " 'http://www.eliticstechnologies.com',\n",
        " 'https://www.bioelitics.com']"
       ]
      }
     ],
     "prompt_number": 12
    },
    {
     "cell_type": "heading",
     "level": 1,
     "metadata": {},
     "source": [
      "Data Structure"
     ]
    },
    {
     "cell_type": "code",
     "collapsed": false,
     "input": [
      "expected_index_table = {'udacity': ['http://udacity.com', 'http://npr.org'], \\\n",
      "                        'computing': ['http://acm.org']}"
     ],
     "language": "python",
     "metadata": {},
     "outputs": [],
     "prompt_number": 13
    },
    {
     "cell_type": "code",
     "collapsed": false,
     "input": [
      "expected_index_table['udacity']"
     ],
     "language": "python",
     "metadata": {},
     "outputs": [
      {
       "metadata": {},
       "output_type": "pyout",
       "prompt_number": 14,
       "text": [
        "['http://udacity.com', 'http://npr.org']"
       ]
      }
     ],
     "prompt_number": 14
    },
    {
     "cell_type": "code",
     "collapsed": false,
     "input": [
      "expected_index_table['computing']"
     ],
     "language": "python",
     "metadata": {},
     "outputs": [
      {
       "metadata": {},
       "output_type": "pyout",
       "prompt_number": 15,
       "text": [
        "['http://acm.org']"
       ]
      }
     ],
     "prompt_number": 15
    },
    {
     "cell_type": "heading",
     "level": 1,
     "metadata": {},
     "source": [
      "Indexing[1]"
     ]
    },
    {
     "cell_type": "markdown",
     "metadata": {},
     "source": [
      "Add new URL into index table under certain keyword."
     ]
    },
    {
     "cell_type": "code",
     "collapsed": false,
     "input": [
      "def add_url_to_index(index_table, keyword, new_url):\n",
      "    urls = index_table.get(keyword, None)\n",
      "    if urls == None:\n",
      "        index_table[keyword] = [new_url]\n",
      "    else:\n",
      "        if new_url in urls:\n",
      "            return\n",
      "        else:\n",
      "            urls.append(new_url)"
     ],
     "language": "python",
     "metadata": {},
     "outputs": [],
     "prompt_number": 16
    },
    {
     "cell_type": "code",
     "collapsed": false,
     "input": [
      "index_table = {}\n",
      "add_url_to_index(index_table,'udacity','http://udacity.com')\n",
      "add_url_to_index(index_table,'computing','http://acm.org')\n",
      "add_url_to_index(index_table,'udacity','http://npr.org')\n",
      "print(index_table)"
     ],
     "language": "python",
     "metadata": {},
     "outputs": [
      {
       "output_type": "stream",
       "stream": "stdout",
       "text": [
        "{'udacity': ['http://udacity.com', 'http://npr.org'], 'computing': ['http://acm.org']}\n"
       ]
      }
     ],
     "prompt_number": 17
    },
    {
     "cell_type": "markdown",
     "metadata": {},
     "source": [
      "Adding all keywords in a page into index table."
     ]
    },
    {
     "cell_type": "code",
     "collapsed": false,
     "input": [
      "def add_page_to_index(index_table, page_url, page_content):\n",
      "    for word in page_content.split():\n",
      "        add_url_to_index(index_table, word.lower(), page_url)"
     ],
     "language": "python",
     "metadata": {},
     "outputs": [],
     "prompt_number": 18
    },
    {
     "cell_type": "markdown",
     "metadata": {},
     "source": [
      "New web crawling with index table."
     ]
    },
    {
     "cell_type": "code",
     "collapsed": false,
     "input": [
      "def crawl_web(seed):\n",
      "    to_crawl = [seed]\n",
      "    crawled = []\n",
      "    index_table = {}\n",
      "    while to_crawl:\n",
      "        url = to_crawl.pop()\n",
      "        if url not in crawled and url.find('elitics') is not -1:\n",
      "            print(\"crawling: %s\" % url)\n",
      "            page_content = get_page(url)\n",
      "            add_page_to_index(index_table, url, page_content)\n",
      "            new_links = get_all_links(page_content)\n",
      "            for new_link in new_links:\n",
      "                print(\" - %s\" % new_link)\n",
      "            to_crawl = union(to_crawl, new_links)\n",
      "            crawled.append(url)\n",
      "    return crawled, index_table"
     ],
     "language": "python",
     "metadata": {},
     "outputs": [],
     "prompt_number": 19
    },
    {
     "cell_type": "code",
     "collapsed": false,
     "input": [
      "crawled, index_table = crawl_web(\"https://www.socioelitics.com\")"
     ],
     "language": "python",
     "metadata": {},
     "outputs": [
      {
       "output_type": "stream",
       "stream": "stdout",
       "text": [
        "crawling: https://www.socioelitics.com\n",
        " - /about#info"
       ]
      },
      {
       "output_type": "stream",
       "stream": "stdout",
       "text": [
        "\n",
        " - /about#focus\n",
        " - /about#products\n",
        " - /about#team\n",
        " - /about#reviews\n",
        " - /about#contact\n",
        " - /signin\n",
        " - http://www.eliticstechnologies.com\n",
        "crawling: http://www.eliticstechnologies.com\n",
        " - http://www.eliticstechnologies.com"
       ]
      },
      {
       "output_type": "stream",
       "stream": "stdout",
       "text": [
        "\n",
        " - https://www.socioelitics.com\n",
        " - https://www.bioelitics.com\n",
        " - #\n",
        " - http://www.yourdreambox.com\n",
        "crawling: https://www.bioelitics.com\n",
        " - /about#info"
       ]
      },
      {
       "output_type": "stream",
       "stream": "stdout",
       "text": [
        "\n",
        " - /about#focus\n",
        " - /about#products\n",
        " - /about#team\n",
        " - /about#reviews\n",
        " - /about#contact\n"
       ]
      }
     ],
     "prompt_number": 20
    },
    {
     "cell_type": "code",
     "collapsed": false,
     "input": [
      "index_table"
     ],
     "language": "python",
     "metadata": {},
     "outputs": [
      {
       "metadata": {},
       "output_type": "pyout",
       "prompt_number": 21,
       "text": [
        "{'nusantara<br>': ['http://www.eliticstechnologies.com'],\n",
        " 'navbar-default\">': ['https://www.socioelitics.com'],\n",
        " 'href=\"/stylesheets/css/socioelitics.css\">': ['https://www.socioelitics.com'],\n",
        " 'name=\"viewport\"': ['https://www.socioelitics.com',\n",
        "  'http://www.eliticstechnologies.com',\n",
        "  'https://www.bioelitics.com'],\n",
        " 'class=\"nav': ['https://www.socioelitics.com', 'https://www.bioelitics.com'],\n",
        " '<!doctype': ['https://www.socioelitics.com',\n",
        "  'http://www.eliticstechnologies.com',\n",
        "  'https://www.bioelitics.com'],\n",
        " 'href=\"https://www.socioelitics.com\"': ['http://www.eliticstechnologies.com'],\n",
        " 'class=\"col-sm-8\">': ['https://www.bioelitics.com'],\n",
        " '</ul>': ['https://www.socioelitics.com',\n",
        "  'http://www.eliticstechnologies.com',\n",
        "  'https://www.bioelitics.com'],\n",
        " 'untuk': ['https://www.socioelitics.com'],\n",
        " \"$('#product_logos').addclass('fadein');\": ['http://www.eliticstechnologies.com'],\n",
        " 'creativity</span>': ['http://www.eliticstechnologies.com'],\n",
        " 'date();a=s.createelement(o),': ['https://www.socioelitics.com',\n",
        "  'https://www.bioelitics.com'],\n",
        " 'navbar-inverse-collapse\">': ['https://www.socioelitics.com',\n",
        "  'https://www.bioelitics.com'],\n",
        " 'font-weight:': ['https://www.socioelitics.com'],\n",
        " 'contact-btn\"': ['http://www.eliticstechnologies.com'],\n",
        " 'class=\"fa': ['https://www.socioelitics.com', 'https://www.bioelitics.com'],\n",
        " 'css': ['https://www.socioelitics.com', 'https://www.bioelitics.com'],\n",
        " 'class=\"navbar-collapse': ['https://www.socioelitics.com',\n",
        "  'https://www.bioelitics.com'],\n",
        " 'type=\"submit\"': ['https://www.bioelitics.com'],\n",
        " 'class=\"modal-dialog': ['http://www.eliticstechnologies.com'],\n",
        " 'informasi': ['https://www.socioelitics.com', 'https://www.bioelitics.com'],\n",
        " 'date();': ['http://www.eliticstechnologies.com'],\n",
        " \"href='https://fonts.googleapis.com/css?family=roboto:300,400,500'\": ['https://www.socioelitics.com',\n",
        "  'https://www.bioelitics.com'],\n",
        " '<meta': ['https://www.socioelitics.com',\n",
        "  'http://www.eliticstechnologies.com',\n",
        "  'https://www.bioelitics.com'],\n",
        " 'anak\"': ['https://www.bioelitics.com'],\n",
        " \"href='https://api.mapbox.com/mapbox.js/v2.2.1/mapbox.css'\": ['https://www.bioelitics.com'],\n",
        " 'produk': ['https://www.socioelitics.com', 'https://www.bioelitics.com'],\n",
        " 'technologies': ['http://www.eliticstechnologies.com'],\n",
        " '</script>': ['https://www.socioelitics.com',\n",
        "  'http://www.eliticstechnologies.com',\n",
        "  'https://www.bioelitics.com'],\n",
        " 'btn-danger\"': ['http://www.eliticstechnologies.com'],\n",
        " 'bioelitics': ['https://www.bioelitics.com'],\n",
        " '}': ['http://www.eliticstechnologies.com'],\n",
        " 'health</span>': ['http://www.eliticstechnologies.com'],\n",
        " 'dan': ['https://www.socioelitics.com', 'https://www.bioelitics.com'],\n",
        " \"rel='stylesheet'\": ['https://www.socioelitics.com',\n",
        "  'http://www.eliticstechnologies.com',\n",
        "  'https://www.bioelitics.com'],\n",
        " 'href=\"https://cdn.leafletjs.com/leaflet-0.7.3/leaflet.css\"': ['https://www.socioelitics.com',\n",
        "  'https://www.bioelitics.com'],\n",
        " 'temukan': ['https://www.socioelitics.com', 'https://www.bioelitics.com'],\n",
        " '2015</span>': ['https://www.socioelitics.com'],\n",
        " '<p>': ['https://www.socioelitics.com'],\n",
        " 'class=\"carousel-logo-left\">': ['http://www.eliticstechnologies.com'],\n",
        " 'dengan': ['https://www.socioelitics.com', 'https://www.bioelitics.com'],\n",
        " 'rumah': ['https://www.bioelitics.com'],\n",
        " 'login': ['https://www.socioelitics.com'],\n",
        " 'data-dismiss=\"modal\">close</button>': ['http://www.eliticstechnologies.com'],\n",
        " 'contact': ['http://www.eliticstechnologies.com'],\n",
        " 'class=\"list-unstyled\">': ['https://www.socioelitics.com',\n",
        "  'http://www.eliticstechnologies.com'],\n",
        " 'class=\"product_logo\"': ['http://www.eliticstechnologies.com'],\n",
        " 'class=\"navbar-header\">': ['https://www.socioelitics.com',\n",
        "  'https://www.bioelitics.com'],\n",
        " 'btn-lg\"><i': ['https://www.bioelitics.com'],\n",
        " 'class=\"bio-text\">bio</span><span': ['https://www.bioelitics.com'],\n",
        " 'href=\"/about#info\">': ['https://www.socioelitics.com',\n",
        "  'https://www.bioelitics.com'],\n",
        " '-------------------------------------------------------------------------------------->': ['http://www.eliticstechnologies.com'],\n",
        " 'gading': ['http://www.eliticstechnologies.com'],\n",
        " 'fa-sign-in\"></i>': ['https://www.socioelitics.com'],\n",
        " '12<br>': ['http://www.eliticstechnologies.com'],\n",
        " 'berikut.': ['https://www.bioelitics.com'],\n",
        " '<title>socioelitics</title>': ['https://www.socioelitics.com'],\n",
        " '<canvas': ['http://www.eliticstechnologies.com'],\n",
        " 'class=\"footer-copyright-dreambox\">dreambox</span>': ['http://www.eliticstechnologies.com'],\n",
        " '16px\">technologies</span>': ['https://www.socioelitics.com'],\n",
        " 'meningkatkan': ['https://www.bioelitics.com'],\n",
        " 'media': ['http://www.eliticstechnologies.com'],\n",
        " 'a=s.createelement(o),': ['http://www.eliticstechnologies.com'],\n",
        " 'href=\"/signin\">': ['https://www.socioelitics.com'],\n",
        " '<html': ['https://www.socioelitics.com',\n",
        "  'http://www.eliticstechnologies.com',\n",
        "  'https://www.bioelitics.com'],\n",
        " 'type=\"text\"': ['https://www.socioelitics.com', 'https://www.bioelitics.com'],\n",
        " 'id=\"animation-canvas\"></canvas>': ['http://www.eliticstechnologies.com'],\n",
        " 'class=\"pull-right': ['http://www.eliticstechnologies.com'],\n",
        " '600\">improve': ['http://www.eliticstechnologies.com'],\n",
        " 'header': ['https://www.socioelitics.com', 'https://www.bioelitics.com'],\n",
        " '11px\">\u00a9': ['https://www.socioelitics.com'],\n",
        " 'style=\"font-weight:': ['http://www.eliticstechnologies.com'],\n",
        " 'socioelitics': ['https://www.socioelitics.com'],\n",
        " 'multimedia': ['http://www.eliticstechnologies.com'],\n",
        " \"document.getelementbyid('contact_button').style.display\": ['http://www.eliticstechnologies.com'],\n",
        " 'm=s.getelementsbytagname(o)[0];': ['http://www.eliticstechnologies.com'],\n",
        " \"href='http://fonts.googleapis.com/css?family=exo+2'\": ['http://www.eliticstechnologies.com'],\n",
        " 'initial-scale=1\">': ['https://www.socioelitics.com',\n",
        "  'http://www.eliticstechnologies.com',\n",
        "  'https://www.bioelitics.com'],\n",
        " 'tangerang,': ['http://www.eliticstechnologies.com'],\n",
        " 'src=\"http://storage.googleapis.com/eliticstechnologies.com/logos/eliticstechnologies_364x160.png\"': ['http://www.eliticstechnologies.com'],\n",
        " 'href=\"/stylesheets/css/font-awesome.min.css\">': ['https://www.socioelitics.com',\n",
        "  'https://www.bioelitics.com'],\n",
        " '</p>': ['https://www.socioelitics.com', 'https://www.bioelitics.com'],\n",
        " 'or': ['https://www.socioelitics.com'],\n",
        " 'class=\"col-sm-2\"></div>': ['https://www.bioelitics.com'],\n",
        " 'remove': ['https://www.socioelitics.com', 'https://www.bioelitics.com'],\n",
        " '<ul': ['https://www.socioelitics.com',\n",
        "  'http://www.eliticstechnologies.com',\n",
        "  'https://www.bioelitics.com'],\n",
        " '<!---------------------------------------------------------------------------------------------------->': ['http://www.eliticstechnologies.com'],\n",
        " 'href=\"http://www.yourdreambox.com\">': ['http://www.eliticstechnologies.com'],\n",
        " 'analytics': ['https://www.socioelitics.com',\n",
        "  'http://www.eliticstechnologies.com',\n",
        "  'https://www.bioelitics.com'],\n",
        " 'google': ['https://www.socioelitics.com',\n",
        "  'http://www.eliticstechnologies.com',\n",
        "  'https://www.bioelitics.com'],\n",
        " '<link': ['https://www.socioelitics.com',\n",
        "  'http://www.eliticstechnologies.com',\n",
        "  'https://www.bioelitics.com'],\n",
        " '{': ['http://www.eliticstechnologies.com'],\n",
        " \"ga('send',\": ['https://www.socioelitics.com',\n",
        "  'http://www.eliticstechnologies.com',\n",
        "  'https://www.bioelitics.com'],\n",
        " '--------------------------------------------------------------------------------------------------->': ['https://www.socioelitics.com',\n",
        "  'https://www.bioelitics.com'],\n",
        " 'href=\"/stylesheets/css/bootstrap.min.css\">': ['https://www.socioelitics.com',\n",
        "  'http://www.eliticstechnologies.com',\n",
        "  'https://www.bioelitics.com'],\n",
        " 'tim': ['https://www.socioelitics.com', 'https://www.bioelitics.com'],\n",
        " 'none\">': ['http://www.eliticstechnologies.com'],\n",
        " 'class=\"modal-footer\">': ['http://www.eliticstechnologies.com'],\n",
        " 'btn-danger': ['http://www.eliticstechnologies.com'],\n",
        " 'fa-search\"></i></button></span>': ['https://www.bioelitics.com'],\n",
        " 'target=\"_blank\">': ['https://www.socioelitics.com',\n",
        "  'http://www.eliticstechnologies.com'],\n",
        " '</form>': ['https://www.socioelitics.com', 'https://www.bioelitics.com'],\n",
        " 'class=\"jumbotron\">': ['https://www.socioelitics.com'],\n",
        " 'input-cari-border-radius\"><button': ['https://www.bioelitics.com'],\n",
        " 'csss': ['http://www.eliticstechnologies.com'],\n",
        " '<footer>': ['https://www.socioelitics.com',\n",
        "  'http://www.eliticstechnologies.com',\n",
        "  'https://www.bioelitics.com'],\n",
        " 'background': ['http://www.eliticstechnologies.com'],\n",
        " 'universitas': ['http://www.eliticstechnologies.com'],\n",
        " 'a.async=1;': ['http://www.eliticstechnologies.com'],\n",
        " 'data</i>.': ['https://www.bioelitics.com'],\n",
        " 'id=\"contact_modal\"': ['http://www.eliticstechnologies.com'],\n",
        " 'products': ['http://www.eliticstechnologies.com'],\n",
        " 'animation': ['http://www.eliticstechnologies.com'],\n",
        " '/>': ['https://www.socioelitics.com',\n",
        "  'http://www.eliticstechnologies.com',\n",
        "  'https://www.bioelitics.com'],\n",
        " 'minat': ['https://www.socioelitics.com'],\n",
        " 'method=\"post\">': ['https://www.socioelitics.com',\n",
        "  'https://www.bioelitics.com'],\n",
        " '(function(i,s,o,g,r,a,m){': ['http://www.eliticstechnologies.com'],\n",
        " 'id=\"contact_button\"': ['http://www.eliticstechnologies.com'],\n",
        " '(15811)': ['http://www.eliticstechnologies.com'],\n",
        " 'class=\"modal-header': ['http://www.eliticstechnologies.com'],\n",
        " 'class=\"form-control': ['https://www.socioelitics.com',\n",
        "  'https://www.bioelitics.com'],\n",
        " 'finish': ['http://www.eliticstechnologies.com'],\n",
        " 'collapse': ['https://www.socioelitics.com', 'https://www.bioelitics.com'],\n",
        " 'name/email': ['https://www.socioelitics.com'],\n",
        " 'navbar-fixed-top\">': ['https://www.bioelitics.com'],\n",
        " 'id=\"product_logos\"': ['http://www.eliticstechnologies.com'],\n",
        " 'aria-labelledby=\"basicmodal\"': ['http://www.eliticstechnologies.com'],\n",
        " 'src=\"/stylesheets/js/bioelitics-search.js\"></script>': ['https://www.bioelitics.com'],\n",
        " '=': ['http://www.eliticstechnologies.com'],\n",
        " 'input-cari-border-radius\"': ['https://www.socioelitics.com',\n",
        "  'https://www.bioelitics.com'],\n",
        " 'ibu': ['https://www.bioelitics.com'],\n",
        " 'html>': ['https://www.socioelitics.com',\n",
        "  'http://www.eliticstechnologies.com',\n",
        "  'https://www.bioelitics.com'],\n",
        " \"$('#contact_button').addclass('slideright');\": ['http://www.eliticstechnologies.com'],\n",
        " 'type=\"button\"': ['https://www.socioelitics.com',\n",
        "  'http://www.eliticstechnologies.com',\n",
        "  'https://www.bioelitics.com'],\n",
        " '</footer>': ['https://www.socioelitics.com',\n",
        "  'http://www.eliticstechnologies.com',\n",
        "  'https://www.bioelitics.com'],\n",
        " '<li': ['https://www.socioelitics.com',\n",
        "  'http://www.eliticstechnologies.com',\n",
        "  'https://www.bioelitics.com'],\n",
        " 'analysis</span><br>': ['http://www.eliticstechnologies.com'],\n",
        " 'text-right': ['http://www.eliticstechnologies.com'],\n",
        " 'inovasi.': ['https://www.socioelitics.com'],\n",
        " \"href='https://fonts.googleapis.com/css?family=exo+2:300,600,700'\": ['https://www.socioelitics.com'],\n",
        " 'style=\"font-family:\\'exo': ['https://www.socioelitics.com'],\n",
        " 'href=\"/stylesheets/css/elitics_technologies.css\">': ['http://www.eliticstechnologies.com'],\n",
        " '600\">big': ['http://www.eliticstechnologies.com'],\n",
        " '<p': ['https://www.bioelitics.com'],\n",
        " 'class=\"container\">': ['https://www.socioelitics.com',\n",
        "  'https://www.bioelitics.com'],\n",
        " 'href=\"http://www.eliticstechnologies.com\"': ['https://www.socioelitics.com'],\n",
        " 'src=\"/stylesheets/js/animation.js\"></script>': ['http://www.eliticstechnologies.com'],\n",
        " 'dark-link-color\">': ['https://www.socioelitics.com'],\n",
        " \"document.getelementbyid('product_logos').style.display\": ['http://www.eliticstechnologies.com'],\n",
        " 'color-dark-gray\">': ['http://www.eliticstechnologies.com'],\n",
        " 'class=\"pull-right\">': ['https://www.socioelitics.com'],\n",
        " \"i['googleanalyticsobject']=r;\": ['http://www.eliticstechnologies.com'],\n",
        " '<a': ['https://www.socioelitics.com',\n",
        "  'http://www.eliticstechnologies.com',\n",
        "  'https://www.bioelitics.com'],\n",
        " 'kualitas': ['https://www.bioelitics.com'],\n",
        " 'class=\"row\">': ['https://www.socioelitics.com',\n",
        "  'http://www.eliticstechnologies.com',\n",
        "  'https://www.bioelitics.com'],\n",
        " 'text-right\">': ['http://www.eliticstechnologies.com'],\n",
        " 'class=\"col-lg-12\">': ['https://www.socioelitics.com',\n",
        "  'http://www.eliticstechnologies.com'],\n",
        " 'data-target=\".navbar-inverse-collapse\">': ['https://www.socioelitics.com',\n",
        "  'https://www.bioelitics.com'],\n",
        " 'onload=\"control_onload()\">': ['http://www.eliticstechnologies.com'],\n",
        " 'src=\"/stylesheets/js/tweenlite.min.js\"></script>': ['http://www.eliticstechnologies.com'],\n",
        " 'class=\"form-horizontal\"': ['https://www.socioelitics.com',\n",
        "  'https://www.bioelitics.com'],\n",
        " 'class=\"footer-copyright': ['https://www.socioelitics.com',\n",
        "  'http://www.eliticstechnologies.com'],\n",
        " 'lang=\"en\">': ['https://www.socioelitics.com',\n",
        "  'http://www.eliticstechnologies.com',\n",
        "  'https://www.bioelitics.com'],\n",
        " '</body>': ['https://www.socioelitics.com',\n",
        "  'http://www.eliticstechnologies.com',\n",
        "  'https://www.bioelitics.com'],\n",
        " 'yang': ['https://www.socioelitics.com'],\n",
        " 'rel=\"stylesheet\"': ['https://www.socioelitics.com',\n",
        "  'http://www.eliticstechnologies.com',\n",
        "  'https://www.bioelitics.com'],\n",
        " 'logo': ['http://www.eliticstechnologies.com'],\n",
        " 'href=\"#\"': ['http://www.eliticstechnologies.com'],\n",
        " 'class=\"main-page-logo-type\">': ['https://www.bioelitics.com'],\n",
        " '<script>': ['https://www.socioelitics.com',\n",
        "  'http://www.eliticstechnologies.com',\n",
        "  'https://www.bioelitics.com'],\n",
        " '<head>': ['https://www.socioelitics.com',\n",
        "  'http://www.eliticstechnologies.com',\n",
        "  'https://www.bioelitics.com'],\n",
        " 'class=\"canvas-background\">': ['http://www.eliticstechnologies.com'],\n",
        " \"2';\": ['https://www.socioelitics.com'],\n",
        " 'href=\"/stylesheets/css/bioelitics-map.css\">': ['https://www.bioelitics.com'],\n",
        " '600;': ['https://www.socioelitics.com',\n",
        "  'http://www.eliticstechnologies.com'],\n",
        " '<br>': ['https://www.socioelitics.com',\n",
        "  'http://www.eliticstechnologies.com',\n",
        "  'https://www.bioelitics.com'],\n",
        " 'class=\"footer-copyright-elitics\">elitics': ['http://www.eliticstechnologies.com'],\n",
        " '2014-2015': ['http://www.eliticstechnologies.com'],\n",
        " 'tabindex=\"-1\"': ['http://www.eliticstechnologies.com'],\n",
        " '<script': ['https://www.socioelitics.com',\n",
        "  'http://www.eliticstechnologies.com',\n",
        "  'https://www.bioelitics.com'],\n",
        " 'implementing': ['http://www.eliticstechnologies.com'],\n",
        " 'navbar-right\">': ['https://www.socioelitics.com',\n",
        "  'https://www.bioelitics.com'],\n",
        " 'i[r]=i[r]||function(){(i[r].q=i[r].q||[]).push(arguments)},i[r].l=1*new': ['http://www.eliticstechnologies.com'],\n",
        " 'href=\"/about#contact\">': ['https://www.socioelitics.com',\n",
        "  'https://www.bioelitics.com'],\n",
        " '</span>': ['https://www.socioelitics.com',\n",
        "  'http://www.eliticstechnologies.com'],\n",
        " 'src=\"/stylesheets/js/easepack.min.js\"></script>': ['http://www.eliticstechnologies.com'],\n",
        " 'kolom': ['https://www.bioelitics.com'],\n",
        " '<body>': ['https://www.socioelitics.com'],\n",
        " 'active\">': ['http://www.eliticstechnologies.com'],\n",
        " 'pada': ['https://www.bioelitics.com'],\n",
        " 'indonesia': ['http://www.eliticstechnologies.com'],\n",
        " 'bar': ['https://www.socioelitics.com'],\n",
        " 'tower': ['http://www.eliticstechnologies.com'],\n",
        " '<img': ['http://www.eliticstechnologies.com'],\n",
        " 'src=\"http://storage.googleapis.com/eliticstechnologies.com/products/socioelitics_logo_237x237.png\"': ['http://www.eliticstechnologies.com'],\n",
        " 'class=\"main-page-logo-type\">socioelitics</span>': ['https://www.socioelitics.com'],\n",
        " 'liputan': ['https://www.socioelitics.com', 'https://www.bioelitics.com'],\n",
        " 'page': ['http://www.eliticstechnologies.com'],\n",
        " 'm.parentnode.insertbefore(a,m)': ['http://www.eliticstechnologies.com'],\n",
        " '<i': ['https://www.socioelitics.com'],\n",
        " \"type='text/css'>\": ['https://www.socioelitics.com',\n",
        "  'http://www.eliticstechnologies.com',\n",
        "  'https://www.bioelitics.com'],\n",
        " '----------------------------------------------------------------------------------------------------->': ['https://www.socioelitics.com',\n",
        "  'https://www.bioelitics.com'],\n",
        " 'navbar-nav': ['https://www.socioelitics.com', 'https://www.bioelitics.com'],\n",
        " 'content=\"width=device-width,': ['https://www.socioelitics.com',\n",
        "  'http://www.eliticstechnologies.com',\n",
        "  'https://www.bioelitics.com'],\n",
        " '<span': ['https://www.socioelitics.com',\n",
        "  'http://www.eliticstechnologies.com',\n",
        "  'https://www.bioelitics.com'],\n",
        " 'aria-hidden=\"true\">': ['http://www.eliticstechnologies.com'],\n",
        " '21px\">elitics': ['http://www.eliticstechnologies.com'],\n",
        " '<form': ['https://www.socioelitics.com', 'https://www.bioelitics.com'],\n",
        " 'jl.': ['http://www.eliticstechnologies.com'],\n",
        " 'class=\"carousel-inner\">': ['http://www.eliticstechnologies.com'],\n",
        " \"'block';\": ['http://www.eliticstechnologies.com'],\n",
        " 'anggota': ['https://www.socioelitics.com'],\n",
        " \"})(window,document,'script','//www.google-analytics.com/analytics.js','ga');\": ['https://www.socioelitics.com',\n",
        "  'http://www.eliticstechnologies.com',\n",
        "  'https://www.bioelitics.com'],\n",
        " 'src=\"/stylesheets/js/jquery-1.10.2.min.js\"></script>': ['https://www.socioelitics.com',\n",
        "  'http://www.eliticstechnologies.com',\n",
        "  'https://www.bioelitics.com'],\n",
        " 'keahlian': ['https://www.socioelitics.com'],\n",
        " 'trigger': ['http://www.eliticstechnologies.com'],\n",
        " 'class=\"modal-body': ['http://www.eliticstechnologies.com'],\n",
        " '------------------------------------------------------------------------------------------------->': ['https://www.socioelitics.com',\n",
        "  'http://www.eliticstechnologies.com',\n",
        "  'https://www.bioelitics.com'],\n",
        " 'tertentu.': ['https://www.socioelitics.com'],\n",
        " '</head>': ['https://www.socioelitics.com',\n",
        "  'http://www.eliticstechnologies.com',\n",
        "  'https://www.bioelitics.com'],\n",
        " 'fonts': ['https://www.socioelitics.com',\n",
        "  'http://www.eliticstechnologies.com',\n",
        "  'https://www.bioelitics.com'],\n",
        " 'slide\"': ['http://www.eliticstechnologies.com'],\n",
        " 'font-size:': ['https://www.socioelitics.com',\n",
        "  'http://www.eliticstechnologies.com'],\n",
        " 'style=\"font-size:': ['https://www.socioelitics.com',\n",
        "  'http://www.eliticstechnologies.com',\n",
        "  'https://www.bioelitics.com'],\n",
        " 'scientia': ['http://www.eliticstechnologies.com'],\n",
        " 'href=\"/about#focus\">': ['https://www.socioelitics.com',\n",
        "  'https://www.bioelitics.com'],\n",
        " 'class=\"navbar-brand': ['https://www.socioelitics.com',\n",
        "  'https://www.bioelitics.com'],\n",
        " 'technologies</title>': ['http://www.eliticstechnologies.com'],\n",
        " 'boulevard,': ['http://www.eliticstechnologies.com'],\n",
        " 'href=\"http://www.eliticstechnologies.com\">': ['http://www.eliticstechnologies.com'],\n",
        " '</div>': ['https://www.socioelitics.com',\n",
        "  'http://www.eliticstechnologies.com',\n",
        "  'https://www.bioelitics.com'],\n",
        " 'input-cari-border-radius\"><i': ['https://www.socioelitics.com'],\n",
        " 'navbar-default': ['https://www.bioelitics.com'],\n",
        " 'kesehatan': ['https://www.bioelitics.com'],\n",
        " 'class=\"input-group\">': ['https://www.socioelitics.com',\n",
        "  'https://www.bioelitics.com'],\n",
        " 'fokus': ['https://www.socioelitics.com', 'https://www.bioelitics.com'],\n",
        " 'after': ['http://www.eliticstechnologies.com'],\n",
        " 'id=\"mymodallabel\">contact</h4>': ['http://www.eliticstechnologies.com'],\n",
        " 'serpong<br>': ['http://www.eliticstechnologies.com'],\n",
        " 'and': ['http://www.eliticstechnologies.com'],\n",
        " '18px\">elitics': ['https://www.socioelitics.com'],\n",
        " '600\">promote': ['http://www.eliticstechnologies.com'],\n",
        " 'href=\"https://www.bioelitics.com\"': ['http://www.eliticstechnologies.com'],\n",
        " 'contact-modal-content\">': ['http://www.eliticstechnologies.com'],\n",
        " '(i[r].q=i[r].q||[]).push(arguments)},i[r].l=1*new': ['https://www.socioelitics.com',\n",
        "  'https://www.bioelitics.com'],\n",
        " \"'ua-54630701-3',\": ['https://www.bioelitics.com'],\n",
        " 'do': ['https://www.socioelitics.com', 'https://www.bioelitics.com'],\n",
        " 'this': ['https://www.socioelitics.com', 'https://www.bioelitics.com'],\n",
        " 'class=\"navbar-toggle\"': ['https://www.socioelitics.com',\n",
        "  'https://www.bioelitics.com'],\n",
        " 'new': ['http://www.eliticstechnologies.com'],\n",
        " 'kreasi': ['https://www.socioelitics.com'],\n",
        " 'src=\"/stylesheets/image/background.jpg\"': ['http://www.eliticstechnologies.com'],\n",
        " '<h4': ['http://www.eliticstechnologies.com'],\n",
        " '\u00a9': ['http://www.eliticstechnologies.com'],\n",
        " 'style=\"display:': ['http://www.eliticstechnologies.com'],\n",
        " 'href=\"/about#reviews\">': ['https://www.socioelitics.com',\n",
        "  'https://www.bioelitics.com'],\n",
        " 'class=\"navbar': ['https://www.socioelitics.com',\n",
        "  'https://www.bioelitics.com'],\n",
        " 'class=\"modal': ['http://www.eliticstechnologies.com'],\n",
        " \"'pageview');\": ['https://www.socioelitics.com',\n",
        "  'http://www.eliticstechnologies.com',\n",
        "  'https://www.bioelitics.com'],\n",
        " \"(function(i,s,o,g,r,a,m){i['googleanalyticsobject']=r;i[r]=i[r]||function(){\": ['https://www.socioelitics.com',\n",
        "  'https://www.bioelitics.com'],\n",
        " 'placeholder=\"cth:': ['https://www.bioelitics.com'],\n",
        " 'elitics': ['http://www.eliticstechnologies.com'],\n",
        " 'kolaborasi': ['https://www.socioelitics.com'],\n",
        " '</li>': ['https://www.socioelitics.com',\n",
        "  'http://www.eliticstechnologies.com',\n",
        "  'https://www.bioelitics.com'],\n",
        " '---------------------------------------------------------------------------------------->': ['http://www.eliticstechnologies.com'],\n",
        " 'lv.': ['http://www.eliticstechnologies.com'],\n",
        " '-------------------------------------------------------------------------------------------------->': ['https://www.socioelitics.com',\n",
        "  'http://www.eliticstechnologies.com',\n",
        "  'https://www.bioelitics.com'],\n",
        " 'fa-search\"></i></span>': ['https://www.socioelitics.com'],\n",
        " 'class=\"input-group-btn': ['https://www.bioelitics.com'],\n",
        " '</a>': ['https://www.socioelitics.com',\n",
        "  'http://www.eliticstechnologies.com',\n",
        "  'https://www.bioelitics.com'],\n",
        " 'id=\"canvas-background\"': ['http://www.eliticstechnologies.com'],\n",
        " 'name=\"search_words\"': ['https://www.socioelitics.com',\n",
        "  'https://www.bioelitics.com'],\n",
        " '<!------------------------------------------------------------------------------------------------------------>': ['https://www.socioelitics.com',\n",
        "  'http://www.eliticstechnologies.com',\n",
        "  'https://www.bioelitics.com'],\n",
        " 'href=\"/stylesheets/css/animations.css\">': ['http://www.eliticstechnologies.com'],\n",
        " '17px;\">': ['https://www.bioelitics.com'],\n",
        " 'href=\"/stylesheets/css/socioelitics-map.css\">': ['https://www.socioelitics.com'],\n",
        " '<li>': ['https://www.socioelitics.com', 'https://www.bioelitics.com'],\n",
        " 'not': ['https://www.socioelitics.com', 'https://www.bioelitics.com'],\n",
        " 'data-toggle=\"collapse\"': ['https://www.socioelitics.com',\n",
        "  'https://www.bioelitics.com'],\n",
        " '19px\">technologies</span><br>': ['http://www.eliticstechnologies.com'],\n",
        " \"'auto');\": ['https://www.socioelitics.com',\n",
        "  'http://www.eliticstechnologies.com',\n",
        "  'https://www.bioelitics.com'],\n",
        " 'machine@eliticstechnologies.com<br><br>': ['http://www.eliticstechnologies.com'],\n",
        " 'class=\"icon-bar\"></span>': ['https://www.socioelitics.com',\n",
        "  'https://www.bioelitics.com'],\n",
        " 'placeholder=\"cari...\">': ['https://www.socioelitics.com'],\n",
        " 'data': ['http://www.eliticstechnologies.com'],\n",
        " 'sama': ['https://www.socioelitics.com'],\n",
        " 'data-ride=\"carousel\">': ['http://www.eliticstechnologies.com'],\n",
        " 'banten,': ['http://www.eliticstechnologies.com'],\n",
        " 'designed': ['http://www.eliticstechnologies.com'],\n",
        " 'kelompok': ['https://www.socioelitics.com'],\n",
        " 'class=\"divider-vertical\"></li>': ['https://www.socioelitics.com',\n",
        "  'https://www.bioelitics.com'],\n",
        " 'content': ['https://www.socioelitics.com',\n",
        "  'http://www.eliticstechnologies.com',\n",
        "  'https://www.bioelitics.com'],\n",
        " 'src=\"/stylesheets/js/socioelitics-search.js\"></script>': ['https://www.socioelitics.com'],\n",
        " 'user': ['https://www.socioelitics.com'],\n",
        " 'masuk': ['https://www.socioelitics.com'],\n",
        " 'seputar': ['https://www.bioelitics.com'],\n",
        " 'modal': ['https://www.socioelitics.com', 'https://www.bioelitics.com'],\n",
        " 'class=\"modal-title\"': ['http://www.eliticstechnologies.com'],\n",
        " 'about': ['https://www.socioelitics.com', 'https://www.bioelitics.com'],\n",
        " \"href='https://fonts.googleapis.com/css?family=exo+2:300,400,600,700'\": ['https://www.bioelitics.com'],\n",
        " 'input-lg': ['https://www.socioelitics.com', 'https://www.bioelitics.com'],\n",
        " 'no-radius': ['https://www.bioelitics.com'],\n",
        " 'src=\"/stylesheets/js/transparency.min.js\"></script>': ['https://www.socioelitics.com',\n",
        "  'https://www.bioelitics.com'],\n",
        " '</html>': ['https://www.socioelitics.com',\n",
        "  'http://www.eliticstechnologies.com',\n",
        "  'https://www.bioelitics.com'],\n",
        " 'sakit': ['https://www.bioelitics.com'],\n",
        " '<input': ['https://www.socioelitics.com', 'https://www.bioelitics.com'],\n",
        " '</button>': ['https://www.socioelitics.com', 'https://www.bioelitics.com'],\n",
        " 'scripts': ['https://www.socioelitics.com',\n",
        "  'http://www.eliticstechnologies.com',\n",
        "  'https://www.bioelitics.com'],\n",
        " 'data-toggle=\"modal\"': ['http://www.eliticstechnologies.com'],\n",
        " 'data-target=\"#contact_modal\">': ['http://www.eliticstechnologies.com'],\n",
        " 'src=\"http://storage.googleapis.com/eliticstechnologies.com/products/mapelitics_logo_208x208.png\"': ['http://www.eliticstechnologies.com'],\n",
        " 'class=\"carousel-caption-center': ['http://www.eliticstechnologies.com'],\n",
        " 'src=\"/stylesheets/js/bootstrap.min.js\"></script>': ['https://www.socioelitics.com',\n",
        "  'http://www.eliticstechnologies.com',\n",
        "  'https://www.bioelitics.com'],\n",
        " 'function': ['http://www.eliticstechnologies.com'],\n",
        " \"'ua-54630701-1',\": ['http://www.eliticstechnologies.com'],\n",
        " 'href=\"/stylesheets/css/bioelitics.css\">': ['https://www.bioelitics.com'],\n",
        " '<title>elitics': ['http://www.eliticstechnologies.com'],\n",
        " '<br><br>': ['http://www.eliticstechnologies.com'],\n",
        " '<div': ['https://www.socioelitics.com',\n",
        "  'http://www.eliticstechnologies.com',\n",
        "  'https://www.bioelitics.com'],\n",
        " 'by': ['http://www.eliticstechnologies.com'],\n",
        " 'class=\"background-responsive\"': ['http://www.eliticstechnologies.com'],\n",
        " 'href=\"/\">': ['https://www.socioelitics.com', 'https://www.bioelitics.com'],\n",
        " 'role=\"dialog\"': ['http://www.eliticstechnologies.com'],\n",
        " 'class=\"footer-copyright-technologies\">technologies</span>': ['http://www.eliticstechnologies.com'],\n",
        " 'hubungi': ['https://www.socioelitics.com', 'https://www.bioelitics.com'],\n",
        " 'class=\"input-group-addon': ['https://www.socioelitics.com'],\n",
        " 'a.src=g;': ['http://www.eliticstechnologies.com'],\n",
        " 'loading': ['http://www.eliticstechnologies.com'],\n",
        " '<!--': ['https://www.socioelitics.com',\n",
        "  'http://www.eliticstechnologies.com',\n",
        "  'https://www.bioelitics.com'],\n",
        " '<br/>': ['https://www.bioelitics.com'],\n",
        " 'berdasarkan': ['https://www.socioelitics.com'],\n",
        " '300;': ['https://www.socioelitics.com'],\n",
        " 'class=\"elitics-text\">elitics</span>': ['https://www.bioelitics.com'],\n",
        " 'class=\"modal-content': ['http://www.eliticstechnologies.com'],\n",
        " 'href=\"/about#team\">': ['https://www.socioelitics.com',\n",
        "  'https://www.bioelitics.com'],\n",
        " 'src=\"/stylesheets/js/jquery.bootpag.min.js\"></script>': ['https://www.socioelitics.com',\n",
        "  'https://www.bioelitics.com'],\n",
        " 'control_onload()': ['http://www.eliticstechnologies.com'],\n",
        " '-->': ['https://www.socioelitics.com',\n",
        "  'http://www.eliticstechnologies.com',\n",
        "  'https://www.bioelitics.com'],\n",
        " '<i>big': ['https://www.bioelitics.com'],\n",
        " '<body': ['http://www.eliticstechnologies.com', 'https://www.bioelitics.com'],\n",
        " 'm=s.getelementsbytagname(o)[0];a.async=1;a.src=g;m.parentnode.insertbefore(a,m)': ['https://www.socioelitics.com',\n",
        "  'https://www.bioelitics.com'],\n",
        " \"src='https://api.mapbox.com/mapbox.js/v2.2.1/mapbox.js'></script>\": ['https://www.bioelitics.com'],\n",
        " 'class=\"carousel': ['http://www.eliticstechnologies.com'],\n",
        " 'header-logo-type\"': ['https://www.socioelitics.com',\n",
        "  'https://www.bioelitics.com'],\n",
        " '&nbsp;': ['https://www.socioelitics.com'],\n",
        " 'footer': ['https://www.socioelitics.com',\n",
        "  'http://www.eliticstechnologies.com',\n",
        "  'https://www.bioelitics.com'],\n",
        " \"ga('create',\": ['https://www.socioelitics.com',\n",
        "  'http://www.eliticstechnologies.com',\n",
        "  'https://www.bioelitics.com'],\n",
        " '----------------------------------------------------------------------->': ['http://www.eliticstechnologies.com'],\n",
        " 'btn-success': ['https://www.bioelitics.com'],\n",
        " \"'ua-54630701-2',\": ['https://www.socioelitics.com'],\n",
        " 'fade\"': ['http://www.eliticstechnologies.com'],\n",
        " 'class=\"item': ['http://www.eliticstechnologies.com'],\n",
        " '<button': ['https://www.socioelitics.com',\n",
        "  'http://www.eliticstechnologies.com',\n",
        "  'https://www.bioelitics.com'],\n",
        " 'style=\"margin-top:70px\">': ['https://www.bioelitics.com'],\n",
        " 'autofocus>': ['https://www.bioelitics.com'],\n",
        " 'contact-modal-dialog\">': ['http://www.eliticstechnologies.com'],\n",
        " 'src=\"http://storage.googleapis.com/eliticstechnologies.com/products/bioelitics_logo_238x237.png\"': ['http://www.eliticstechnologies.com'],\n",
        " 'the': ['http://www.eliticstechnologies.com'],\n",
        " '<!--bar': ['https://www.socioelitics.com'],\n",
        " 'to': ['http://www.eliticstechnologies.com'],\n",
        " '<title>bioelitics</title>': ['https://www.bioelitics.com'],\n",
        " 'src=\"https://cdn.leafletjs.com/leaflet-0.7.3/leaflet.js\"></script>': ['https://www.socioelitics.com',\n",
        "  'https://www.bioelitics.com'],\n",
        " 'class=\"btn': ['http://www.eliticstechnologies.com',\n",
        "  'https://www.bioelitics.com'],\n",
        " 'href=\"/about#products\">': ['https://www.socioelitics.com',\n",
        "  'https://www.bioelitics.com']}"
       ]
      }
     ],
     "prompt_number": 21
    },
    {
     "cell_type": "code",
     "collapsed": false,
     "input": [
      "index_table[\"analytics\"]"
     ],
     "language": "python",
     "metadata": {},
     "outputs": [
      {
       "metadata": {},
       "output_type": "pyout",
       "prompt_number": 22,
       "text": [
        "['https://www.socioelitics.com',\n",
        " 'http://www.eliticstechnologies.com',\n",
        " 'https://www.bioelitics.com']"
       ]
      }
     ],
     "prompt_number": 22
    },
    {
     "cell_type": "code",
     "collapsed": false,
     "input": [
      "index_table[\"sakit\"]"
     ],
     "language": "python",
     "metadata": {},
     "outputs": [
      {
       "metadata": {},
       "output_type": "pyout",
       "prompt_number": 23,
       "text": [
        "['https://www.bioelitics.com']"
       ]
      }
     ],
     "prompt_number": 23
    },
    {
     "cell_type": "heading",
     "level": 1,
     "metadata": {},
     "source": [
      "Lookup Function"
     ]
    },
    {
     "cell_type": "code",
     "collapsed": false,
     "input": [
      "def lookup(index_table, keyword):\n",
      "    return index_table.get(keyword, None)"
     ],
     "language": "python",
     "metadata": {},
     "outputs": [],
     "prompt_number": 24
    },
    {
     "cell_type": "code",
     "collapsed": false,
     "input": [
      "lookup(index_table, \"analytics\")"
     ],
     "language": "python",
     "metadata": {},
     "outputs": [
      {
       "metadata": {},
       "output_type": "pyout",
       "prompt_number": 25,
       "text": [
        "['https://www.socioelitics.com',\n",
        " 'http://www.eliticstechnologies.com',\n",
        " 'https://www.bioelitics.com']"
       ]
      }
     ],
     "prompt_number": 25
    },
    {
     "cell_type": "heading",
     "level": 1,
     "metadata": {},
     "source": [
      "Scoring[1]"
     ]
    },
    {
     "cell_type": "markdown",
     "metadata": {},
     "source": [
      "Popularity definition:\n",
      "\n",
      "$$popularity(p) = \\sum\\limits_{f \\in friends(p)} popularity(f)$$\n",
      "\n",
      "Iterative model of popularity definition:\n",
      "\n",
      "$$popularity(0,p) = 1$$\n",
      "\n",
      "$$popularity(t,p) = \\sum\\limits_{f \\in friends(p)} popularity(t-1,f)$$\n"
     ]
    },
    {
     "cell_type": "markdown",
     "metadata": {},
     "source": [
      "Page rank based on popularity definition:\n",
      "\n",
      "$$rank(0,url) \\rightarrow 1$$\n",
      "\n",
      "$$rank(t,url) \\rightarrow \\sum\\limits_{p \\in inlinks[url]} rank(t-1,url)$$"
     ]
    },
    {
     "cell_type": "markdown",
     "metadata": {},
     "source": [
      "Normalise for in-link page with many out-links:\n",
      "\n",
      "$$rank(0,url) \\rightarrow 1$$\n",
      "\n",
      "$$rank(t,url) \\rightarrow \\sum\\limits_{p \\in inlinks[url]} \\frac{rank(t-1,url)}{outlinks[p]}$$"
     ]
    },
    {
     "cell_type": "heading",
     "level": 1,
     "metadata": {},
     "source": [
      "Link Graph"
     ]
    },
    {
     "cell_type": "markdown",
     "metadata": {},
     "source": [
      "New web crawling with link graph."
     ]
    },
    {
     "cell_type": "code",
     "collapsed": false,
     "input": [
      "def crawl_web(seed):\n",
      "    to_crawl = [seed]\n",
      "    crawled = []\n",
      "    index_table = {}\n",
      "    link_graph = {}\n",
      "    while to_crawl:\n",
      "        url = to_crawl.pop()\n",
      "        if url not in crawled and url.find('elitics') is not -1:\n",
      "            print(\"crawling: %s\" % url)\n",
      "            page_content = get_page(url)\n",
      "            add_page_to_index(index_table, url, page_content)\n",
      "            new_links = get_all_links(page_content)\n",
      "            link_graph[url] = new_links\n",
      "            for new_link in new_links:\n",
      "                print(\" - %s\" % new_link)\n",
      "            to_crawl = union(to_crawl, new_links)\n",
      "            crawled.append(url)\n",
      "    return crawled, index_table, link_graph"
     ],
     "language": "python",
     "metadata": {},
     "outputs": [],
     "prompt_number": 26
    },
    {
     "cell_type": "code",
     "collapsed": false,
     "input": [
      "crawled, index_table, link_graph = crawl_web(\"https://www.socioelitics.com\")"
     ],
     "language": "python",
     "metadata": {},
     "outputs": [
      {
       "output_type": "stream",
       "stream": "stdout",
       "text": [
        "crawling: https://www.socioelitics.com\n",
        " - /about#info"
       ]
      },
      {
       "output_type": "stream",
       "stream": "stdout",
       "text": [
        "\n",
        " - /about#focus\n",
        " - /about#products\n",
        " - /about#team\n",
        " - /about#reviews\n",
        " - /about#contact\n",
        " - /signin\n",
        " - http://www.eliticstechnologies.com\n",
        "crawling: http://www.eliticstechnologies.com\n",
        " - http://www.eliticstechnologies.com"
       ]
      },
      {
       "output_type": "stream",
       "stream": "stdout",
       "text": [
        "\n",
        " - https://www.socioelitics.com\n",
        " - https://www.bioelitics.com\n",
        " - #\n",
        " - http://www.yourdreambox.com\n",
        "crawling: https://www.bioelitics.com\n",
        " - /about#info"
       ]
      },
      {
       "output_type": "stream",
       "stream": "stdout",
       "text": [
        "\n",
        " - /about#focus\n",
        " - /about#products\n",
        " - /about#team\n",
        " - /about#reviews\n",
        " - /about#contact\n"
       ]
      }
     ],
     "prompt_number": 27
    },
    {
     "cell_type": "code",
     "collapsed": false,
     "input": [
      "link_graph"
     ],
     "language": "python",
     "metadata": {},
     "outputs": [
      {
       "metadata": {},
       "output_type": "pyout",
       "prompt_number": 28,
       "text": [
        "{'https://www.socioelitics.com': ['/about#info',\n",
        "  '/about#focus',\n",
        "  '/about#products',\n",
        "  '/about#team',\n",
        "  '/about#reviews',\n",
        "  '/about#contact',\n",
        "  '/signin',\n",
        "  'http://www.eliticstechnologies.com'],\n",
        " 'https://www.bioelitics.com': ['/about#info',\n",
        "  '/about#focus',\n",
        "  '/about#products',\n",
        "  '/about#team',\n",
        "  '/about#reviews',\n",
        "  '/about#contact'],\n",
        " 'http://www.eliticstechnologies.com': ['http://www.eliticstechnologies.com',\n",
        "  'https://www.socioelitics.com',\n",
        "  'https://www.bioelitics.com',\n",
        "  '#',\n",
        "  'http://www.yourdreambox.com']}"
       ]
      }
     ],
     "prompt_number": 28
    },
    {
     "cell_type": "heading",
     "level": 1,
     "metadata": {},
     "source": [
      "Page Rank"
     ]
    },
    {
     "cell_type": "markdown",
     "metadata": {},
     "source": [
      "$$rank(0,url) \\rightarrow \\frac{1}{N}$$\n",
      "\n",
      "$$rank(t,url) \\rightarrow \\frac{1-d}{N} + d \\sum\\limits_{p \\in inlinks[url]} \\frac{rank(t-1,url)}{outlinks[p]}$$"
     ]
    },
    {
     "cell_type": "markdown",
     "metadata": {},
     "source": [
      "Where $N$ is total number of pages and $d$ is damping factor. $d$ is normally being set at 0.8."
     ]
    },
    {
     "cell_type": "code",
     "collapsed": false,
     "input": [
      "def compute_ranks(link_graph):\n",
      "    d = 0.8 # damping factor\n",
      "    ttl_iter = 100\n",
      "    \n",
      "    score_table = {}\n",
      "    npages = len(link_graph)\n",
      "    for page in link_graph:\n",
      "        score_table[page] = 1.0 / npages\n",
      "    \n",
      "    for i in range(0, ttl_iter):\n",
      "        new_score_table = {}\n",
      "        for page in link_graph:\n",
      "            score = (1 - d) / npages\n",
      "            for node in link_graph:\n",
      "                if page in link_graph[node]:\n",
      "                    score += (d * score_table[node]) / len(link_graph[node])\n",
      "            new_score_table[page] = score\n",
      "        score_table = new_score_table\n",
      "    return score_table"
     ],
     "language": "python",
     "metadata": {},
     "outputs": [],
     "prompt_number": 33
    },
    {
     "cell_type": "code",
     "collapsed": false,
     "input": [
      "score_table = compute_ranks(link_graph)"
     ],
     "language": "python",
     "metadata": {},
     "outputs": [],
     "prompt_number": 34
    },
    {
     "cell_type": "code",
     "collapsed": false,
     "input": [
      "score_table"
     ],
     "language": "python",
     "metadata": {},
     "outputs": [
      {
       "metadata": {},
       "output_type": "pyout",
       "prompt_number": 35,
       "text": [
        "{'https://www.socioelitics.com': 0.0809061488673139,\n",
        " 'https://www.bioelitics.com': 0.0809061488673139,\n",
        " 'http://www.eliticstechnologies.com': 0.08899676375404529}"
       ]
      }
     ],
     "prompt_number": 35
    },
    {
     "cell_type": "heading",
     "level": 1,
     "metadata": {},
     "source": [
      "Sorting Link"
     ]
    },
    {
     "cell_type": "code",
     "collapsed": false,
     "input": [
      "def sort_link_table(index_table = {}, score_table = {}):\n",
      "    sorted_index_table = {}\n",
      "    for keyword in index_table:\n",
      "        links = index_table[keyword]\n",
      "        scores = [score_table[link] for link in links]\n",
      "        indices = sorted(range(len(scores)), key=lambda k: scores[k], reverse=True)\n",
      "        sorted_index_table[keyword] = [links[index] for index in indices]\n",
      "    return sorted_index_table"
     ],
     "language": "python",
     "metadata": {},
     "outputs": [],
     "prompt_number": 36
    },
    {
     "cell_type": "code",
     "collapsed": false,
     "input": [
      "lookup(index_table, \"analytics\")"
     ],
     "language": "python",
     "metadata": {},
     "outputs": [
      {
       "metadata": {},
       "output_type": "pyout",
       "prompt_number": 37,
       "text": [
        "['https://www.socioelitics.com',\n",
        " 'http://www.eliticstechnologies.com',\n",
        " 'https://www.bioelitics.com']"
       ]
      }
     ],
     "prompt_number": 37
    },
    {
     "cell_type": "code",
     "collapsed": false,
     "input": [
      "sorted_index_table = sort_link_table(index_table, score_table)"
     ],
     "language": "python",
     "metadata": {},
     "outputs": [],
     "prompt_number": 38
    },
    {
     "cell_type": "code",
     "collapsed": false,
     "input": [
      "lookup(sorted_index_table, \"analytics\")"
     ],
     "language": "python",
     "metadata": {},
     "outputs": [
      {
       "metadata": {},
       "output_type": "pyout",
       "prompt_number": 39,
       "text": [
        "['http://www.eliticstechnologies.com',\n",
        " 'https://www.socioelitics.com',\n",
        " 'https://www.bioelitics.com']"
       ]
      }
     ],
     "prompt_number": 39
    },
    {
     "cell_type": "heading",
     "level": 1,
     "metadata": {},
     "source": [
      "References"
     ]
    },
    {
     "cell_type": "markdown",
     "metadata": {},
     "source": [
      "[1] [Intro to Computer Science by David Evans](https://www.udacity.com/course/intro-to-computer-science--cs101)"
     ]
    }
   ],
   "metadata": {}
  }
 ]
}