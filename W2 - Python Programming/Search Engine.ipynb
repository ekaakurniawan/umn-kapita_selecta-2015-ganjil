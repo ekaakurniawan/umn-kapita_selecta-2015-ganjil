{
 "metadata": {
  "name": "",
  "signature": "sha256:d85257f0b423fa940fff7469692e0978e0e7411dcac87738af1e92a4725947e8"
 },
 "nbformat": 3,
 "nbformat_minor": 0,
 "worksheets": [
  {
   "cells": [
    {
     "cell_type": "heading",
     "level": 1,
     "metadata": {},
     "source": [
      "Getting Web Page"
     ]
    },
    {
     "cell_type": "code",
     "collapsed": false,
     "input": [
      "from urllib.request import urlopen\n",
      "def get_page(url):\n",
      "    return urlopen(url, timeout = 3).read().decode()"
     ],
     "language": "python",
     "metadata": {},
     "outputs": [],
     "prompt_number": 43
    },
    {
     "cell_type": "code",
     "collapsed": false,
     "input": [
      "get_page(\"http://www.eliticstechnologies.com\")"
     ],
     "language": "python",
     "metadata": {},
     "outputs": [
      {
       "metadata": {},
       "output_type": "pyout",
       "prompt_number": 29,
       "text": [
        "'<!DOCTYPE html>\\n<html lang=\"en\">\\n    <head>\\n        <title>Elitics Technologies</title>\\n        <!-- Fonts -->\\n        <link href=\\'http://fonts.googleapis.com/css?family=Exo+2\\' rel=\\'stylesheet\\' type=\\'text/css\\'>\\n        <!-- CSSs -->\\n        <link rel=\"stylesheet\" href=\"/stylesheets/css/bootstrap.min.css\">\\n        <link rel=\"stylesheet\" href=\"/stylesheets/css/elitics_technologies.css\">\\n        <link rel=\"stylesheet\" href=\"/stylesheets/css/animations.css\">\\n        <meta name=\"viewport\" content=\"width=device-width, initial-scale=1\">\\n    </head>\\n    \\n    <body onload=\"control_onload()\">\\n        <!------------------------------------------------------------------------------------------------------------>\\n        <!-- Content ------------------------------------------------------------------------------------------------->\\n        <!------------------------------------------------------------------------------------------------------------>\\n        \\n    <div class=\"carousel slide\" data-ride=\"carousel\">\\n        <div class=\"carousel-inner\">\\n            <div class=\"item active\">\\n                <!---------------------------------------------------------------------------------------------------->\\n                <!-- Background -------------------------------------------------------------------------------------->\\n                <!---------------------------------------------------------------------------------------------------->\\n                <img class=\"background-responsive\" src=\"/stylesheets/image/background.jpg\" />\\n                <div id=\"canvas-background\" class=\"canvas-background\">\\n\\t\\t\\t\\t\\t<canvas id=\"animation-canvas\"></canvas>\\n\\t\\t\\t\\t</div>\\n\\n                <!---------------------------------------------------------------------------------------------------->\\n                <!-- Elitics Technologies Logo ----------------------------------------------------------------------->\\n                <!---------------------------------------------------------------------------------------------------->\\n                <div class=\"carousel-logo-left\">\\n                    <a href=\"http://www.eliticstechnologies.com\">\\n                        <img src=\"http://storage.googleapis.com/eliticstechnologies.com/logos/eliticstechnologies_364x160.png\" />\\n                    </a>\\n                </div>\\n\\n                <!---------------------------------------------------------------------------------------------------->\\n                <!-- Products ---------------------------------------------------------------------------------------->\\n                <!---------------------------------------------------------------------------------------------------->\\n                <div class=\"carousel-caption-center color-dark-gray\">\\n                    Implementing\\n                    <span style=\"font-weight: 600\">Big Data Analysis</span><br>\\n                    to <span style=\"font-weight: 600\">Promote Creativity</span> and\\n                    to <span style=\"font-weight: 600\">Improve Health</span>\\n\\n                    <br><br>\\n\\n                    <div id=\"product_logos\" style=\"display: none\">\\n                        <a href=\"https://www.socioelitics.com\" target=\"_blank\">\\n                            <img class=\"product_logo\" src=\"http://storage.googleapis.com/eliticstechnologies.com/products/socioelitics_logo_237x237.png\" />\\n                        </a>\\n                        <a href=\"https://www.bioelitics.com\" target=\"_blank\">\\n                            <img class=\"product_logo\" src=\"http://storage.googleapis.com/eliticstechnologies.com/products/bioelitics_logo_238x237.png\" />\\n                        </a>\\n                        <img class=\"product_logo\" src=\"http://storage.googleapis.com/eliticstechnologies.com/products/mapelitics_logo_208x208.png\" />\\n                    </div>\\n\\n                    <br>\\n\\n                    <div id=\"contact_button\" style=\"display: none\">\\n                        <a href=\"#\" class=\"btn btn-danger contact-btn\" data-toggle=\"modal\" data-target=\"#contact_modal\">\\n                            Contact\\n                        </a>\\n                    </div>\\n                </div>\\n\\n            </div>\\n        </div>\\n    </div>\\n\\n    <div class=\"modal fade\" id=\"contact_modal\" tabindex=\"-1\" role=\"dialog\" aria-labelledby=\"basicModal\" aria-hidden=\"true\">\\n        <div class=\"modal-dialog contact-modal-dialog\">\\n            <div class=\"modal-content contact-modal-content\">\\n                <div class=\"modal-header color-dark-gray\">\\n                    <h4 class=\"modal-title\" id=\"myModalLabel\">Contact</h4>\\n                </div>\\n                <div class=\"modal-body text-right color-dark-gray\">\\n                    <span style=\"font-weight: 600; font-size: 21px\">ELITICS </span>\\n                    <span style=\"font-size: 19px\">technologies</span><br>\\n                    machine@eliticstechnologies.com<br><br>\\n                    New Media Tower lv. 12<br>\\n                    Universitas Multimedia Nusantara<br>\\n                    Jl. Scientia Boulevard, Gading Serpong<br>\\n                    Tangerang, Banten, Indonesia (15811)\\n                </div>\\n                <div class=\"modal-footer\">\\n                    <button type=\"button\" class=\"btn btn-danger\" data-dismiss=\"modal\">Close</button>\\n                </div>\\n            </div>\\n        </div>\\n    </div>\\n\\n\\n        <!------------------------------------------------------------------------------------------------------------>\\n        <!-- Footer -------------------------------------------------------------------------------------------------->\\n        <!------------------------------------------------------------------------------------------------------------>\\n        <footer>\\n            <div class=\"footer-copyright color-dark-gray\">\\n                <div class=\"row\">\\n                    <div class=\"col-lg-12\">\\n                        <ul class=\"list-unstyled\">\\n                            <li class=\"pull-right text-right\">\\n                                \u00a9 2014-2015\\n                                <span class=\"footer-copyright-elitics\">ELITICS </span>\\n                                <span class=\"footer-copyright-technologies\">technologies</span>\\n                                <br>\\n                                Designed by\\n                                <a href=\"http://www.yourdreambox.com\">\\n                                    <span class=\"footer-copyright-dreambox\">DREAMBOX</span>\\n                                </a>\\n                                <br>\\n                            </li>\\n                        </ul>\\n                    </div>\\n                </div>\\n            </div>\\n        </footer>\\n        <br>\\n\\n        <!------------------------------------------------------------------------------------------------------------>\\n        <!-- Scripts ------------------------------------------------------------------------------------------------->\\n        <!------------------------------------------------------------------------------------------------------------>\\n        <script src=\"/stylesheets/js/jquery-1.10.2.min.js\"></script>\\n        <script src=\"/stylesheets/js/bootstrap.min.js\"></script>\\n        <!-- Animation -->\\n        <script src=\"/stylesheets/js/TweenLite.min.js\"></script>\\n        <script src=\"/stylesheets/js/EasePack.min.js\"></script>\\n        <script src=\"/stylesheets/js/animation.js\"></script>\\n\\n        <!-- Trigger animation after the page finish loading -->\\n        <script>\\n            function control_onload() {\\n                document.getElementById(\\'product_logos\\').style.display = \\'block\\';\\n                $(\\'#product_logos\\').addClass(\\'fadeIn\\');\\n                document.getElementById(\\'contact_button\\').style.display = \\'block\\';\\n                $(\\'#contact_button\\').addClass(\\'slideRight\\');\\n            }\\n        </script>\\n\\n        <!-- Google Analytics -->\\n        <script>\\n            (function(i,s,o,g,r,a,m){\\n                i[\\'GoogleAnalyticsObject\\']=r;\\n                i[r]=i[r]||function(){(i[r].q=i[r].q||[]).push(arguments)},i[r].l=1*new Date();\\n                a=s.createElement(o), m=s.getElementsByTagName(o)[0];\\n                a.async=1;\\n                a.src=g;\\n                m.parentNode.insertBefore(a,m)\\n            })(window,document,\\'script\\',\\'//www.google-analytics.com/analytics.js\\',\\'ga\\');\\n\\n            ga(\\'create\\', \\'UA-54630701-1\\', \\'auto\\');\\n            ga(\\'send\\', \\'pageview\\');\\n        </script>\\n    </body>\\n</html>'"
       ]
      }
     ],
     "prompt_number": 29
    },
    {
     "cell_type": "code",
     "collapsed": false,
     "input": [
      "elitics_technologies_page = '<!DOCTYPE html>\\n<html lang=\"en\">\\n    <head>\\n        <title>Elitics Technologies</title>\\n        <!-- Fonts -->\\n        <link href=\\'http://fonts.googleapis.com/css?family=Exo+2\\' rel=\\'stylesheet\\' type=\\'text/css\\'>\\n        <!-- CSSs -->\\n        <link rel=\"stylesheet\" href=\"/stylesheets/css/bootstrap.min.css\">\\n        <link rel=\"stylesheet\" href=\"/stylesheets/css/elitics_technologies.css\">\\n        <link rel=\"stylesheet\" href=\"/stylesheets/css/animations.css\">\\n        <meta name=\"viewport\" content=\"width=device-width, initial-scale=1\">\\n    </head>\\n    \\n    <body onload=\"control_onload()\">\\n        <!------------------------------------------------------------------------------------------------------------>\\n        <!-- Content ------------------------------------------------------------------------------------------------->\\n        <!------------------------------------------------------------------------------------------------------------>\\n        \\n    <div class=\"carousel slide\" data-ride=\"carousel\">\\n        <div class=\"carousel-inner\">\\n            <div class=\"item active\">\\n                <!---------------------------------------------------------------------------------------------------->\\n                <!-- Background -------------------------------------------------------------------------------------->\\n                <!---------------------------------------------------------------------------------------------------->\\n                <img class=\"background-responsive\" src=\"/stylesheets/image/background.jpg\" />\\n                <div id=\"canvas-background\" class=\"canvas-background\">\\n\\t\\t\\t\\t\\t<canvas id=\"animation-canvas\"></canvas>\\n\\t\\t\\t\\t</div>\\n\\n                <!---------------------------------------------------------------------------------------------------->\\n                <!-- Elitics Technologies Logo ----------------------------------------------------------------------->\\n                <!---------------------------------------------------------------------------------------------------->\\n                <div class=\"carousel-logo-left\">\\n                    <a href=\"http://www.eliticstechnologies.com\">\\n                        <img src=\"http://storage.googleapis.com/eliticstechnologies.com/logos/eliticstechnologies_364x160.png\" />\\n                    </a>\\n                </div>\\n\\n                <!---------------------------------------------------------------------------------------------------->\\n                <!-- Products ---------------------------------------------------------------------------------------->\\n                <!---------------------------------------------------------------------------------------------------->\\n                <div class=\"carousel-caption-center color-dark-gray\">\\n                    Implementing\\n                    <span style=\"font-weight: 600\">Big Data Analysis</span><br>\\n                    to <span style=\"font-weight: 600\">Promote Creativity</span> and\\n                    to <span style=\"font-weight: 600\">Improve Health</span>\\n\\n                    <br><br>\\n\\n                    <div id=\"product_logos\" style=\"display: none\">\\n                        <a href=\"https://www.socioelitics.com\" target=\"_blank\">\\n                            <img class=\"product_logo\" src=\"http://storage.googleapis.com/eliticstechnologies.com/products/socioelitics_logo_237x237.png\" />\\n                        </a>\\n                        <a href=\"https://www.bioelitics.com\" target=\"_blank\">\\n                            <img class=\"product_logo\" src=\"http://storage.googleapis.com/eliticstechnologies.com/products/bioelitics_logo_238x237.png\" />\\n                        </a>\\n                        <img class=\"product_logo\" src=\"http://storage.googleapis.com/eliticstechnologies.com/products/mapelitics_logo_208x208.png\" />\\n                    </div>\\n\\n                    <br>\\n\\n                    <div id=\"contact_button\" style=\"display: none\">\\n                        <a href=\"#\" class=\"btn btn-danger contact-btn\" data-toggle=\"modal\" data-target=\"#contact_modal\">\\n                            Contact\\n                        </a>\\n                    </div>\\n                </div>\\n\\n            </div>\\n        </div>\\n    </div>\\n\\n    <div class=\"modal fade\" id=\"contact_modal\" tabindex=\"-1\" role=\"dialog\" aria-labelledby=\"basicModal\" aria-hidden=\"true\">\\n        <div class=\"modal-dialog contact-modal-dialog\">\\n            <div class=\"modal-content contact-modal-content\">\\n                <div class=\"modal-header color-dark-gray\">\\n                    <h4 class=\"modal-title\" id=\"myModalLabel\">Contact</h4>\\n                </div>\\n                <div class=\"modal-body text-right color-dark-gray\">\\n                    <span style=\"font-weight: 600; font-size: 21px\">ELITICS </span>\\n                    <span style=\"font-size: 19px\">technologies</span><br>\\n                    machine@eliticstechnologies.com<br><br>\\n                    New Media Tower lv. 12<br>\\n                    Universitas Multimedia Nusantara<br>\\n                    Jl. Scientia Boulevard, Gading Serpong<br>\\n                    Tangerang, Banten, Indonesia (15811)\\n                </div>\\n                <div class=\"modal-footer\">\\n                    <button type=\"button\" class=\"btn btn-danger\" data-dismiss=\"modal\">Close</button>\\n                </div>\\n            </div>\\n        </div>\\n    </div>\\n\\n\\n        <!------------------------------------------------------------------------------------------------------------>\\n        <!-- Footer -------------------------------------------------------------------------------------------------->\\n        <!------------------------------------------------------------------------------------------------------------>\\n        <footer>\\n            <div class=\"footer-copyright color-dark-gray\">\\n                <div class=\"row\">\\n                    <div class=\"col-lg-12\">\\n                        <ul class=\"list-unstyled\">\\n                            <li class=\"pull-right text-right\">\\n                                \u00a9 2014-2015\\n                                <span class=\"footer-copyright-elitics\">ELITICS </span>\\n                                <span class=\"footer-copyright-technologies\">technologies</span>\\n                                <br>\\n                                Designed by\\n                                <a href=\"http://www.yourdreambox.com\">\\n                                    <span class=\"footer-copyright-dreambox\">DREAMBOX</span>\\n                                </a>\\n                                <br>\\n                            </li>\\n                        </ul>\\n                    </div>\\n                </div>\\n            </div>\\n        </footer>\\n        <br>\\n\\n        <!------------------------------------------------------------------------------------------------------------>\\n        <!-- Scripts ------------------------------------------------------------------------------------------------->\\n        <!------------------------------------------------------------------------------------------------------------>\\n        <script src=\"/stylesheets/js/jquery-1.10.2.min.js\"></script>\\n        <script src=\"/stylesheets/js/bootstrap.min.js\"></script>\\n        <!-- Animation -->\\n        <script src=\"/stylesheets/js/TweenLite.min.js\"></script>\\n        <script src=\"/stylesheets/js/EasePack.min.js\"></script>\\n        <script src=\"/stylesheets/js/animation.js\"></script>\\n\\n        <!-- Trigger animation after the page finish loading -->\\n        <script>\\n            function control_onload() {\\n                document.getElementById(\\'product_logos\\').style.display = \\'block\\';\\n                $(\\'#product_logos\\').addClass(\\'fadeIn\\');\\n                document.getElementById(\\'contact_button\\').style.display = \\'block\\';\\n                $(\\'#contact_button\\').addClass(\\'slideRight\\');\\n            }\\n        </script>\\n\\n        <!-- Google Analytics -->\\n        <script>\\n            (function(i,s,o,g,r,a,m){\\n                i[\\'GoogleAnalyticsObject\\']=r;\\n                i[r]=i[r]||function(){(i[r].q=i[r].q||[]).push(arguments)},i[r].l=1*new Date();\\n                a=s.createElement(o), m=s.getElementsByTagName(o)[0];\\n                a.async=1;\\n                a.src=g;\\n                m.parentNode.insertBefore(a,m)\\n            })(window,document,\\'script\\',\\'//www.google-analytics.com/analytics.js\\',\\'ga\\');\\n\\n            ga(\\'create\\', \\'UA-54630701-1\\', \\'auto\\');\\n            ga(\\'send\\', \\'pageview\\');\\n        </script>\\n    </body>\\n</html>'"
     ],
     "language": "python",
     "metadata": {},
     "outputs": [],
     "prompt_number": 30
    },
    {
     "cell_type": "heading",
     "level": 1,
     "metadata": {},
     "source": [
      "Extracting Links"
     ]
    },
    {
     "cell_type": "code",
     "collapsed": false,
     "input": [
      "def get_next_target(page):\n",
      "    start_link_idx = page.find('<a href=')\n",
      "    if start_link_idx is -1:\n",
      "        return None, 0\n",
      "    \n",
      "    start_quote_idx = page.find('\"', start_link_idx)\n",
      "    end_quote_idx = page.find('\"', start_quote_idx+1)\n",
      "    url = page[start_quote_idx+1:end_quote_idx]\n",
      "    return url, end_quote_idx"
     ],
     "language": "python",
     "metadata": {},
     "outputs": [],
     "prompt_number": 31
    },
    {
     "cell_type": "code",
     "collapsed": false,
     "input": [
      "page =('<div id=\"top_bin\"><div id=\"top_content\" class=\"width960\">'\n",
      "       '<div class=\"udacity float-left\"><a href=\"http://udacity.com\">')\n",
      "\n",
      "get_next_target(page)"
     ],
     "language": "python",
     "metadata": {},
     "outputs": [
      {
       "metadata": {},
       "output_type": "pyout",
       "prompt_number": 32,
       "text": [
        "('http://udacity.com', 116)"
       ]
      }
     ],
     "prompt_number": 32
    },
    {
     "cell_type": "heading",
     "level": 1,
     "metadata": {},
     "source": [
      "Getting All Links"
     ]
    },
    {
     "cell_type": "code",
     "collapsed": false,
     "input": [
      "def get_all_links(page):\n",
      "    urls = []\n",
      "    while True:\n",
      "        url, endpos = get_next_target(page)\n",
      "        if url:\n",
      "            urls.append(url)\n",
      "            page = page[endpos:]\n",
      "        else:\n",
      "            break\n",
      "    return urls"
     ],
     "language": "python",
     "metadata": {},
     "outputs": [],
     "prompt_number": 33
    },
    {
     "cell_type": "code",
     "collapsed": false,
     "input": [
      "page =('<div id=\"top_bin\"><div id=\"top_content\" class=\"width960\">'\n",
      "       '<div class=\"udacity float-left\"><a href=\"http://udacity.com\">'\n",
      "       '<div id=\"top_bin\"><div id=\"top_content\" class=\"width960\">'\n",
      "       '<div class=\"udacity float-left\"><a href=\"http://gmail.com\">'\n",
      "       '<div id=\"top_bin\"><div id=\"top_content\" class=\"width960\">'\n",
      "       '<div class=\"udacity float-left\"><a href=\"http://yahoo.com\">')\n",
      "\n",
      "get_all_links(page)"
     ],
     "language": "python",
     "metadata": {},
     "outputs": [
      {
       "metadata": {},
       "output_type": "pyout",
       "prompt_number": 34,
       "text": [
        "['http://udacity.com', 'http://gmail.com', 'http://yahoo.com']"
       ]
      }
     ],
     "prompt_number": 34
    },
    {
     "cell_type": "code",
     "collapsed": false,
     "input": [
      "get_all_links(elitics_technologies_page)"
     ],
     "language": "python",
     "metadata": {},
     "outputs": [
      {
       "metadata": {},
       "output_type": "pyout",
       "prompt_number": 35,
       "text": [
        "['http://www.eliticstechnologies.com',\n",
        " 'https://www.socioelitics.com',\n",
        " 'https://www.bioelitics.com',\n",
        " '#',\n",
        " 'http://www.yourdreambox.com']"
       ]
      }
     ],
     "prompt_number": 35
    },
    {
     "cell_type": "heading",
     "level": 1,
     "metadata": {},
     "source": [
      "Union Function"
     ]
    },
    {
     "cell_type": "code",
     "collapsed": false,
     "input": [
      "def union(a, b):\n",
      "    return list(set.union(set(a), set(b)))"
     ],
     "language": "python",
     "metadata": {},
     "outputs": [],
     "prompt_number": 50
    },
    {
     "cell_type": "heading",
     "level": 1,
     "metadata": {},
     "source": [
      "Crawling Web"
     ]
    },
    {
     "cell_type": "code",
     "collapsed": false,
     "input": [
      "def crawl_web(seed):\n",
      "    to_crawl = [seed]\n",
      "    crawled = []\n",
      "    while to_crawl:\n",
      "        url = to_crawl.pop()\n",
      "        if url not in crawled and url.find('elitics') is not -1:\n",
      "            print(\"crawling: %s\" % url)\n",
      "            page = get_page(url)\n",
      "            new_links = get_all_links(page)\n",
      "            for new_link in new_links:\n",
      "                print(\" - %s\" % new_link)\n",
      "            to_crawl = union(to_crawl, new_links)\n",
      "            crawled.append(url)\n",
      "    return crawled"
     ],
     "language": "python",
     "metadata": {},
     "outputs": [],
     "prompt_number": 63
    },
    {
     "cell_type": "code",
     "collapsed": false,
     "input": [
      "crawl_web(\"http://www.eliticstechnologies.com\")"
     ],
     "language": "python",
     "metadata": {},
     "outputs": [
      {
       "output_type": "stream",
       "stream": "stdout",
       "text": [
        "crawling: http://www.eliticstechnologies.com\n",
        " - http://www.eliticstechnologies.com"
       ]
      },
      {
       "output_type": "stream",
       "stream": "stdout",
       "text": [
        "\n",
        " - https://www.socioelitics.com\n",
        " - https://www.bioelitics.com\n",
        " - #\n",
        " - http://www.yourdreambox.com\n",
        "crawling: https://www.socioelitics.com\n",
        " - /about#info"
       ]
      },
      {
       "output_type": "stream",
       "stream": "stdout",
       "text": [
        "\n",
        " - /about#focus\n",
        " - /about#products\n",
        " - /about#team\n",
        " - /about#reviews\n",
        " - /about#contact\n",
        " - /signin\n",
        " - http://www.eliticstechnologies.com\n",
        "crawling: https://www.bioelitics.com\n",
        " - /about#info"
       ]
      },
      {
       "output_type": "stream",
       "stream": "stdout",
       "text": [
        "\n",
        " - /about#focus\n",
        " - /about#products\n",
        " - /about#team\n",
        " - /about#reviews\n",
        " - /about#contact\n"
       ]
      },
      {
       "metadata": {},
       "output_type": "pyout",
       "prompt_number": 64,
       "text": [
        "['http://www.eliticstechnologies.com',\n",
        " 'https://www.socioelitics.com',\n",
        " 'https://www.bioelitics.com']"
       ]
      }
     ],
     "prompt_number": 64
    },
    {
     "cell_type": "code",
     "collapsed": false,
     "input": [],
     "language": "python",
     "metadata": {},
     "outputs": []
    }
   ],
   "metadata": {}
  }
 ]
}